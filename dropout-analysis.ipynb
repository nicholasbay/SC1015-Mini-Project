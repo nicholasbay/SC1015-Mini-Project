{
  "cells": [
    {
      "cell_type": "markdown",
      "metadata": {
        "id": "h6zdSwkY6TzF"
      },
      "source": [
        "# **SC1015 MINI-PROJECT**\n",
        "---\n",
        "## PROBLEM STATEMENT\n",
        "### To predict whether a student will drop out based on a combination of the following variables:\n",
        "* whether they are paying their tuition fees timely (\"Tuition fees up to date\")\n",
        "* whether they are a scholarship holder (\"Scholarship holder\")\n",
        "* their gender (\"Gender\")\n",
        "* their age at enrollment (\"Age at enrollment\")\n",
        "---"
      ]
    },
    {
      "cell_type": "markdown",
      "metadata": {
        "id": "crulZVSl7H2z"
      },
      "source": [
        "# Setup"
      ]
    },
    {
      "cell_type": "markdown",
      "metadata": {
        "id": "27abphvd1ftM"
      },
      "source": [
        "### Importing Essential Libraries"
      ]
    },
    {
      "cell_type": "code",
      "execution_count": 2,
      "metadata": {
        "id": "xFv-L4ptqXJQ"
      },
      "outputs": [],
      "source": [
        "# For data cleaning & processing\n",
        "import numpy as np\n",
        "import pandas as pd\n",
        "\n",
        "# For data visualisation\n",
        "import seaborn as sb\n",
        "import matplotlib.pyplot as plt\n",
        "from scipy.stats import chi2_contingency\n",
        "import plotly.express as px\n",
        "\n",
        "sb.set()"
      ]
    },
    {
      "cell_type": "markdown",
      "metadata": {
        "id": "Xm1pomwjieol"
      },
      "source": [
        "### Importing Dataset"
      ]
    },
    {
      "cell_type": "code",
      "execution_count": 3,
      "metadata": {
        "colab": {
          "base_uri": "https://localhost:8080/",
          "height": 534
        },
        "id": "x90qIaTQqbqM",
        "outputId": "2ccbd252-4fc0-4c8e-ddf2-ec9381e29d95"
      },
      "outputs": [
        {
          "data": {
            "text/html": [
              "<div>\n",
              "<style scoped>\n",
              "    .dataframe tbody tr th:only-of-type {\n",
              "        vertical-align: middle;\n",
              "    }\n",
              "\n",
              "    .dataframe tbody tr th {\n",
              "        vertical-align: top;\n",
              "    }\n",
              "\n",
              "    .dataframe thead th {\n",
              "        text-align: right;\n",
              "    }\n",
              "</style>\n",
              "<table border=\"1\" class=\"dataframe\">\n",
              "  <thead>\n",
              "    <tr style=\"text-align: right;\">\n",
              "      <th></th>\n",
              "      <th>Marital status</th>\n",
              "      <th>Application mode</th>\n",
              "      <th>Application order</th>\n",
              "      <th>Course</th>\n",
              "      <th>Daytime/evening attendance</th>\n",
              "      <th>Previous qualification</th>\n",
              "      <th>Nacionality</th>\n",
              "      <th>Mother's qualification</th>\n",
              "      <th>Father's qualification</th>\n",
              "      <th>Mother's occupation</th>\n",
              "      <th>...</th>\n",
              "      <th>Curricular units 2nd sem (credited)</th>\n",
              "      <th>Curricular units 2nd sem (enrolled)</th>\n",
              "      <th>Curricular units 2nd sem (evaluations)</th>\n",
              "      <th>Curricular units 2nd sem (approved)</th>\n",
              "      <th>Curricular units 2nd sem (grade)</th>\n",
              "      <th>Curricular units 2nd sem (without evaluations)</th>\n",
              "      <th>Unemployment rate</th>\n",
              "      <th>Inflation rate</th>\n",
              "      <th>GDP</th>\n",
              "      <th>Target</th>\n",
              "    </tr>\n",
              "  </thead>\n",
              "  <tbody>\n",
              "    <tr>\n",
              "      <th>0</th>\n",
              "      <td>1</td>\n",
              "      <td>8</td>\n",
              "      <td>5</td>\n",
              "      <td>2</td>\n",
              "      <td>1</td>\n",
              "      <td>1</td>\n",
              "      <td>1</td>\n",
              "      <td>13</td>\n",
              "      <td>10</td>\n",
              "      <td>6</td>\n",
              "      <td>...</td>\n",
              "      <td>0</td>\n",
              "      <td>0</td>\n",
              "      <td>0</td>\n",
              "      <td>0</td>\n",
              "      <td>0.000000</td>\n",
              "      <td>0</td>\n",
              "      <td>10.8</td>\n",
              "      <td>1.4</td>\n",
              "      <td>1.74</td>\n",
              "      <td>Dropout</td>\n",
              "    </tr>\n",
              "    <tr>\n",
              "      <th>1</th>\n",
              "      <td>1</td>\n",
              "      <td>6</td>\n",
              "      <td>1</td>\n",
              "      <td>11</td>\n",
              "      <td>1</td>\n",
              "      <td>1</td>\n",
              "      <td>1</td>\n",
              "      <td>1</td>\n",
              "      <td>3</td>\n",
              "      <td>4</td>\n",
              "      <td>...</td>\n",
              "      <td>0</td>\n",
              "      <td>6</td>\n",
              "      <td>6</td>\n",
              "      <td>6</td>\n",
              "      <td>13.666667</td>\n",
              "      <td>0</td>\n",
              "      <td>13.9</td>\n",
              "      <td>-0.3</td>\n",
              "      <td>0.79</td>\n",
              "      <td>Graduate</td>\n",
              "    </tr>\n",
              "    <tr>\n",
              "      <th>2</th>\n",
              "      <td>1</td>\n",
              "      <td>1</td>\n",
              "      <td>5</td>\n",
              "      <td>5</td>\n",
              "      <td>1</td>\n",
              "      <td>1</td>\n",
              "      <td>1</td>\n",
              "      <td>22</td>\n",
              "      <td>27</td>\n",
              "      <td>10</td>\n",
              "      <td>...</td>\n",
              "      <td>0</td>\n",
              "      <td>6</td>\n",
              "      <td>0</td>\n",
              "      <td>0</td>\n",
              "      <td>0.000000</td>\n",
              "      <td>0</td>\n",
              "      <td>10.8</td>\n",
              "      <td>1.4</td>\n",
              "      <td>1.74</td>\n",
              "      <td>Dropout</td>\n",
              "    </tr>\n",
              "    <tr>\n",
              "      <th>3</th>\n",
              "      <td>1</td>\n",
              "      <td>8</td>\n",
              "      <td>2</td>\n",
              "      <td>15</td>\n",
              "      <td>1</td>\n",
              "      <td>1</td>\n",
              "      <td>1</td>\n",
              "      <td>23</td>\n",
              "      <td>27</td>\n",
              "      <td>6</td>\n",
              "      <td>...</td>\n",
              "      <td>0</td>\n",
              "      <td>6</td>\n",
              "      <td>10</td>\n",
              "      <td>5</td>\n",
              "      <td>12.400000</td>\n",
              "      <td>0</td>\n",
              "      <td>9.4</td>\n",
              "      <td>-0.8</td>\n",
              "      <td>-3.12</td>\n",
              "      <td>Graduate</td>\n",
              "    </tr>\n",
              "    <tr>\n",
              "      <th>4</th>\n",
              "      <td>2</td>\n",
              "      <td>12</td>\n",
              "      <td>1</td>\n",
              "      <td>3</td>\n",
              "      <td>0</td>\n",
              "      <td>1</td>\n",
              "      <td>1</td>\n",
              "      <td>22</td>\n",
              "      <td>28</td>\n",
              "      <td>10</td>\n",
              "      <td>...</td>\n",
              "      <td>0</td>\n",
              "      <td>6</td>\n",
              "      <td>6</td>\n",
              "      <td>6</td>\n",
              "      <td>13.000000</td>\n",
              "      <td>0</td>\n",
              "      <td>13.9</td>\n",
              "      <td>-0.3</td>\n",
              "      <td>0.79</td>\n",
              "      <td>Graduate</td>\n",
              "    </tr>\n",
              "    <tr>\n",
              "      <th>...</th>\n",
              "      <td>...</td>\n",
              "      <td>...</td>\n",
              "      <td>...</td>\n",
              "      <td>...</td>\n",
              "      <td>...</td>\n",
              "      <td>...</td>\n",
              "      <td>...</td>\n",
              "      <td>...</td>\n",
              "      <td>...</td>\n",
              "      <td>...</td>\n",
              "      <td>...</td>\n",
              "      <td>...</td>\n",
              "      <td>...</td>\n",
              "      <td>...</td>\n",
              "      <td>...</td>\n",
              "      <td>...</td>\n",
              "      <td>...</td>\n",
              "      <td>...</td>\n",
              "      <td>...</td>\n",
              "      <td>...</td>\n",
              "      <td>...</td>\n",
              "    </tr>\n",
              "    <tr>\n",
              "      <th>4419</th>\n",
              "      <td>1</td>\n",
              "      <td>1</td>\n",
              "      <td>6</td>\n",
              "      <td>15</td>\n",
              "      <td>1</td>\n",
              "      <td>1</td>\n",
              "      <td>1</td>\n",
              "      <td>1</td>\n",
              "      <td>1</td>\n",
              "      <td>6</td>\n",
              "      <td>...</td>\n",
              "      <td>0</td>\n",
              "      <td>6</td>\n",
              "      <td>8</td>\n",
              "      <td>5</td>\n",
              "      <td>12.666667</td>\n",
              "      <td>0</td>\n",
              "      <td>15.5</td>\n",
              "      <td>2.8</td>\n",
              "      <td>-4.06</td>\n",
              "      <td>Graduate</td>\n",
              "    </tr>\n",
              "    <tr>\n",
              "      <th>4420</th>\n",
              "      <td>1</td>\n",
              "      <td>1</td>\n",
              "      <td>2</td>\n",
              "      <td>15</td>\n",
              "      <td>1</td>\n",
              "      <td>1</td>\n",
              "      <td>19</td>\n",
              "      <td>1</td>\n",
              "      <td>1</td>\n",
              "      <td>10</td>\n",
              "      <td>...</td>\n",
              "      <td>0</td>\n",
              "      <td>6</td>\n",
              "      <td>6</td>\n",
              "      <td>2</td>\n",
              "      <td>11.000000</td>\n",
              "      <td>0</td>\n",
              "      <td>11.1</td>\n",
              "      <td>0.6</td>\n",
              "      <td>2.02</td>\n",
              "      <td>Dropout</td>\n",
              "    </tr>\n",
              "    <tr>\n",
              "      <th>4421</th>\n",
              "      <td>1</td>\n",
              "      <td>1</td>\n",
              "      <td>1</td>\n",
              "      <td>12</td>\n",
              "      <td>1</td>\n",
              "      <td>1</td>\n",
              "      <td>1</td>\n",
              "      <td>22</td>\n",
              "      <td>27</td>\n",
              "      <td>10</td>\n",
              "      <td>...</td>\n",
              "      <td>0</td>\n",
              "      <td>8</td>\n",
              "      <td>9</td>\n",
              "      <td>1</td>\n",
              "      <td>13.500000</td>\n",
              "      <td>0</td>\n",
              "      <td>13.9</td>\n",
              "      <td>-0.3</td>\n",
              "      <td>0.79</td>\n",
              "      <td>Dropout</td>\n",
              "    </tr>\n",
              "    <tr>\n",
              "      <th>4422</th>\n",
              "      <td>1</td>\n",
              "      <td>1</td>\n",
              "      <td>1</td>\n",
              "      <td>9</td>\n",
              "      <td>1</td>\n",
              "      <td>1</td>\n",
              "      <td>1</td>\n",
              "      <td>22</td>\n",
              "      <td>27</td>\n",
              "      <td>8</td>\n",
              "      <td>...</td>\n",
              "      <td>0</td>\n",
              "      <td>5</td>\n",
              "      <td>6</td>\n",
              "      <td>5</td>\n",
              "      <td>12.000000</td>\n",
              "      <td>0</td>\n",
              "      <td>9.4</td>\n",
              "      <td>-0.8</td>\n",
              "      <td>-3.12</td>\n",
              "      <td>Graduate</td>\n",
              "    </tr>\n",
              "    <tr>\n",
              "      <th>4423</th>\n",
              "      <td>1</td>\n",
              "      <td>5</td>\n",
              "      <td>1</td>\n",
              "      <td>15</td>\n",
              "      <td>1</td>\n",
              "      <td>1</td>\n",
              "      <td>9</td>\n",
              "      <td>23</td>\n",
              "      <td>27</td>\n",
              "      <td>6</td>\n",
              "      <td>...</td>\n",
              "      <td>0</td>\n",
              "      <td>6</td>\n",
              "      <td>6</td>\n",
              "      <td>6</td>\n",
              "      <td>13.000000</td>\n",
              "      <td>0</td>\n",
              "      <td>12.7</td>\n",
              "      <td>3.7</td>\n",
              "      <td>-1.70</td>\n",
              "      <td>Graduate</td>\n",
              "    </tr>\n",
              "  </tbody>\n",
              "</table>\n",
              "<p>4424 rows × 35 columns</p>\n",
              "</div>"
            ],
            "text/plain": [
              "      Marital status  Application mode  Application order  Course  \\\n",
              "0                  1                 8                  5       2   \n",
              "1                  1                 6                  1      11   \n",
              "2                  1                 1                  5       5   \n",
              "3                  1                 8                  2      15   \n",
              "4                  2                12                  1       3   \n",
              "...              ...               ...                ...     ...   \n",
              "4419               1                 1                  6      15   \n",
              "4420               1                 1                  2      15   \n",
              "4421               1                 1                  1      12   \n",
              "4422               1                 1                  1       9   \n",
              "4423               1                 5                  1      15   \n",
              "\n",
              "      Daytime/evening attendance  Previous qualification  Nacionality  \\\n",
              "0                              1                       1            1   \n",
              "1                              1                       1            1   \n",
              "2                              1                       1            1   \n",
              "3                              1                       1            1   \n",
              "4                              0                       1            1   \n",
              "...                          ...                     ...          ...   \n",
              "4419                           1                       1            1   \n",
              "4420                           1                       1           19   \n",
              "4421                           1                       1            1   \n",
              "4422                           1                       1            1   \n",
              "4423                           1                       1            9   \n",
              "\n",
              "      Mother's qualification  Father's qualification  Mother's occupation  \\\n",
              "0                         13                      10                    6   \n",
              "1                          1                       3                    4   \n",
              "2                         22                      27                   10   \n",
              "3                         23                      27                    6   \n",
              "4                         22                      28                   10   \n",
              "...                      ...                     ...                  ...   \n",
              "4419                       1                       1                    6   \n",
              "4420                       1                       1                   10   \n",
              "4421                      22                      27                   10   \n",
              "4422                      22                      27                    8   \n",
              "4423                      23                      27                    6   \n",
              "\n",
              "      ...  Curricular units 2nd sem (credited)  \\\n",
              "0     ...                                    0   \n",
              "1     ...                                    0   \n",
              "2     ...                                    0   \n",
              "3     ...                                    0   \n",
              "4     ...                                    0   \n",
              "...   ...                                  ...   \n",
              "4419  ...                                    0   \n",
              "4420  ...                                    0   \n",
              "4421  ...                                    0   \n",
              "4422  ...                                    0   \n",
              "4423  ...                                    0   \n",
              "\n",
              "      Curricular units 2nd sem (enrolled)  \\\n",
              "0                                       0   \n",
              "1                                       6   \n",
              "2                                       6   \n",
              "3                                       6   \n",
              "4                                       6   \n",
              "...                                   ...   \n",
              "4419                                    6   \n",
              "4420                                    6   \n",
              "4421                                    8   \n",
              "4422                                    5   \n",
              "4423                                    6   \n",
              "\n",
              "      Curricular units 2nd sem (evaluations)  \\\n",
              "0                                          0   \n",
              "1                                          6   \n",
              "2                                          0   \n",
              "3                                         10   \n",
              "4                                          6   \n",
              "...                                      ...   \n",
              "4419                                       8   \n",
              "4420                                       6   \n",
              "4421                                       9   \n",
              "4422                                       6   \n",
              "4423                                       6   \n",
              "\n",
              "      Curricular units 2nd sem (approved)  Curricular units 2nd sem (grade)  \\\n",
              "0                                       0                          0.000000   \n",
              "1                                       6                         13.666667   \n",
              "2                                       0                          0.000000   \n",
              "3                                       5                         12.400000   \n",
              "4                                       6                         13.000000   \n",
              "...                                   ...                               ...   \n",
              "4419                                    5                         12.666667   \n",
              "4420                                    2                         11.000000   \n",
              "4421                                    1                         13.500000   \n",
              "4422                                    5                         12.000000   \n",
              "4423                                    6                         13.000000   \n",
              "\n",
              "      Curricular units 2nd sem (without evaluations)  Unemployment rate  \\\n",
              "0                                                  0               10.8   \n",
              "1                                                  0               13.9   \n",
              "2                                                  0               10.8   \n",
              "3                                                  0                9.4   \n",
              "4                                                  0               13.9   \n",
              "...                                              ...                ...   \n",
              "4419                                               0               15.5   \n",
              "4420                                               0               11.1   \n",
              "4421                                               0               13.9   \n",
              "4422                                               0                9.4   \n",
              "4423                                               0               12.7   \n",
              "\n",
              "      Inflation rate   GDP    Target  \n",
              "0                1.4  1.74   Dropout  \n",
              "1               -0.3  0.79  Graduate  \n",
              "2                1.4  1.74   Dropout  \n",
              "3               -0.8 -3.12  Graduate  \n",
              "4               -0.3  0.79  Graduate  \n",
              "...              ...   ...       ...  \n",
              "4419             2.8 -4.06  Graduate  \n",
              "4420             0.6  2.02   Dropout  \n",
              "4421            -0.3  0.79   Dropout  \n",
              "4422            -0.8 -3.12  Graduate  \n",
              "4423             3.7 -1.70  Graduate  \n",
              "\n",
              "[4424 rows x 35 columns]"
            ]
          },
          "execution_count": 3,
          "metadata": {},
          "output_type": "execute_result"
        }
      ],
      "source": [
        "dropout = pd.read_csv(\"dropout.csv\")\n",
        "dropout"
      ]
    },
    {
      "cell_type": "markdown",
      "metadata": {
        "id": "c7Hk9IpItEWD"
      },
      "source": [
        "### Cleaning Dataset"
      ]
    },
    {
      "cell_type": "code",
      "execution_count": 4,
      "metadata": {
        "colab": {
          "base_uri": "https://localhost:8080/",
          "height": 577
        },
        "id": "uKrom4tq8udp",
        "outputId": "3fcc331d-d04e-4c3f-e3bf-f549bdd6baab"
      },
      "outputs": [
        {
          "name": "stdout",
          "output_type": "stream",
          "text": [
            "Graduate    2209\n",
            "Dropout     1421\n",
            "Enrolled     794\n",
            "Name: Target, dtype: int64\n"
          ]
        },
        {
          "data": {
            "image/png": "[encoded data removed]",
            "text/plain": [
              "<Figure size 500x500 with 1 Axes>"
            ]
          },
          "metadata": {},
          "output_type": "display_data"
        }
      ],
      "source": [
        "print(dropout[\"Target\"].value_counts(dropna=False))\n",
        "\n",
        "# Create the catplot\n",
        "catplot = sb.catplot(y = \"Target\", data = dropout, kind = \"count\")\n",
        "\n",
        "# Set the title\n",
        "catplot.fig.suptitle(\"Before\")\n",
        "\n",
        "# Show the plot\n",
        "plt.show()"
      ]
    },
    {
      "cell_type": "markdown",
      "metadata": {
        "id": "fG1ccZUZ-mAY"
      },
      "source": [
        "\"Target\" is a **categorical variable** with 3 unique values: \"Dropout\", \"Graduate\", and \"Enrolled\". No NULL values are present in \"Target\"."
      ]
    },
    {
      "cell_type": "code",
      "execution_count": 5,
      "metadata": {
        "colab": {
          "base_uri": "https://localhost:8080/",
          "height": 470
        },
        "id": "CbfA13cU-x4R",
        "outputId": "d8138572-cf42-42c8-b3a3-338c1e41d27b"
      },
      "outputs": [
        {
          "name": "stdout",
          "output_type": "stream",
          "text": [
            "Graduate    2209\n",
            "Dropout     1421\n",
            "Name: Target, dtype: int64\n"
          ]
        },
        {
          "data": {
            "text/html": [
              "<div>\n",
              "<style scoped>\n",
              "    .dataframe tbody tr th:only-of-type {\n",
              "        vertical-align: middle;\n",
              "    }\n",
              "\n",
              "    .dataframe tbody tr th {\n",
              "        vertical-align: top;\n",
              "    }\n",
              "\n",
              "    .dataframe thead th {\n",
              "        text-align: right;\n",
              "    }\n",
              "</style>\n",
              "<table border=\"1\" class=\"dataframe\">\n",
              "  <thead>\n",
              "    <tr style=\"text-align: right;\">\n",
              "      <th></th>\n",
              "      <th>Tuition fees up to date</th>\n",
              "      <th>Gender</th>\n",
              "      <th>Scholarship holder</th>\n",
              "      <th>Age at enrollment</th>\n",
              "      <th>Target</th>\n",
              "    </tr>\n",
              "  </thead>\n",
              "  <tbody>\n",
              "    <tr>\n",
              "      <th>0</th>\n",
              "      <td>1</td>\n",
              "      <td>1</td>\n",
              "      <td>0</td>\n",
              "      <td>20</td>\n",
              "      <td>Dropout</td>\n",
              "    </tr>\n",
              "    <tr>\n",
              "      <th>1</th>\n",
              "      <td>0</td>\n",
              "      <td>1</td>\n",
              "      <td>0</td>\n",
              "      <td>19</td>\n",
              "      <td>Graduate</td>\n",
              "    </tr>\n",
              "    <tr>\n",
              "      <th>2</th>\n",
              "      <td>0</td>\n",
              "      <td>1</td>\n",
              "      <td>0</td>\n",
              "      <td>19</td>\n",
              "      <td>Dropout</td>\n",
              "    </tr>\n",
              "    <tr>\n",
              "      <th>3</th>\n",
              "      <td>1</td>\n",
              "      <td>0</td>\n",
              "      <td>0</td>\n",
              "      <td>20</td>\n",
              "      <td>Graduate</td>\n",
              "    </tr>\n",
              "    <tr>\n",
              "      <th>4</th>\n",
              "      <td>1</td>\n",
              "      <td>0</td>\n",
              "      <td>0</td>\n",
              "      <td>45</td>\n",
              "      <td>Graduate</td>\n",
              "    </tr>\n",
              "    <tr>\n",
              "      <th>...</th>\n",
              "      <td>...</td>\n",
              "      <td>...</td>\n",
              "      <td>...</td>\n",
              "      <td>...</td>\n",
              "      <td>...</td>\n",
              "    </tr>\n",
              "    <tr>\n",
              "      <th>3625</th>\n",
              "      <td>1</td>\n",
              "      <td>1</td>\n",
              "      <td>0</td>\n",
              "      <td>19</td>\n",
              "      <td>Graduate</td>\n",
              "    </tr>\n",
              "    <tr>\n",
              "      <th>3626</th>\n",
              "      <td>0</td>\n",
              "      <td>0</td>\n",
              "      <td>0</td>\n",
              "      <td>18</td>\n",
              "      <td>Dropout</td>\n",
              "    </tr>\n",
              "    <tr>\n",
              "      <th>3627</th>\n",
              "      <td>1</td>\n",
              "      <td>0</td>\n",
              "      <td>1</td>\n",
              "      <td>30</td>\n",
              "      <td>Dropout</td>\n",
              "    </tr>\n",
              "    <tr>\n",
              "      <th>3628</th>\n",
              "      <td>1</td>\n",
              "      <td>0</td>\n",
              "      <td>1</td>\n",
              "      <td>20</td>\n",
              "      <td>Graduate</td>\n",
              "    </tr>\n",
              "    <tr>\n",
              "      <th>3629</th>\n",
              "      <td>1</td>\n",
              "      <td>0</td>\n",
              "      <td>0</td>\n",
              "      <td>22</td>\n",
              "      <td>Graduate</td>\n",
              "    </tr>\n",
              "  </tbody>\n",
              "</table>\n",
              "<p>3630 rows × 5 columns</p>\n",
              "</div>"
            ],
            "text/plain": [
              "      Tuition fees up to date  Gender  Scholarship holder  Age at enrollment  \\\n",
              "0                           1       1                   0                 20   \n",
              "1                           0       1                   0                 19   \n",
              "2                           0       1                   0                 19   \n",
              "3                           1       0                   0                 20   \n",
              "4                           1       0                   0                 45   \n",
              "...                       ...     ...                 ...                ...   \n",
              "3625                        1       1                   0                 19   \n",
              "3626                        0       0                   0                 18   \n",
              "3627                        1       0                   1                 30   \n",
              "3628                        1       0                   1                 20   \n",
              "3629                        1       0                   0                 22   \n",
              "\n",
              "        Target  \n",
              "0      Dropout  \n",
              "1     Graduate  \n",
              "2      Dropout  \n",
              "3     Graduate  \n",
              "4     Graduate  \n",
              "...        ...  \n",
              "3625  Graduate  \n",
              "3626   Dropout  \n",
              "3627   Dropout  \n",
              "3628  Graduate  \n",
              "3629  Graduate  \n",
              "\n",
              "[3630 rows x 5 columns]"
            ]
          },
          "execution_count": 5,
          "metadata": {},
          "output_type": "execute_result"
        }
      ],
      "source": [
        "# Making \"clean\" copy of DataFrame\n",
        "dropout_clean = dropout.copy()\n",
        "\n",
        "# Dropping all \"Enrolled\" data points & resetting indices\n",
        "dropout_clean = dropout_clean[dropout_clean['Target'] != 'Enrolled'].reset_index()\n",
        "dropout_clean_all = dropout_clean\n",
        "\n",
        "# Keeping only \"Tuition fees up to date\", \"Gender\", \"Scholarship holder\", \"Age at enrollment\", \"Target\" columns\n",
        "dropout_clean = dropout_clean[['Tuition fees up to date', 'Gender', 'Scholarship holder', 'Age at enrollment', 'Target']]\n",
        "\n",
        "# Checking that cleaning was done correctly\n",
        "print(dropout_clean['Target'].value_counts())\n",
        "\n",
        "dropout_clean"
      ]
    },
    {
      "cell_type": "code",
      "execution_count": 6,
      "metadata": {
        "colab": {
          "base_uri": "https://localhost:8080/",
          "height": 509
        },
        "id": "3eDB81HfWtQz",
        "outputId": "dff1cfae-9ac5-44b5-97ae-60ca913c36b7"
      },
      "outputs": [
        {
          "data": {
            "image/png": "[encoded data removed]",
            "text/plain": [
              "<Figure size 500x500 with 1 Axes>"
            ]
          },
          "metadata": {},
          "output_type": "display_data"
        }
      ],
      "source": [
        "# Create the catplot\n",
        "catplot = sb.catplot(y = \"Target\", data = dropout_clean, kind = \"count\")\n",
        "\n",
        "# Set the title\n",
        "catplot.fig.suptitle(\"After\")\n",
        "\n",
        "# Show the plot\n",
        "plt.show()"
      ]
    },
    {
      "cell_type": "markdown",
      "metadata": {
        "id": "lqbqM4maflPP"
      },
      "source": [
        "Since our objective is to predict whether a student will drop out or graduate, we will only be focusing on \"Dropout\" and \"Graduate\" data points. \"Enrolled\" data points are dropped as they are irrelevant to our analysis."
      ]
    },
    {
      "cell_type": "code",
      "execution_count": 7,
      "metadata": {
        "colab": {
          "base_uri": "https://localhost:8080/"
        },
        "id": "8tDFSpNyB1C3",
        "outputId": "837b82dd-8e31-42fa-c2ef-21b33924560e"
      },
      "outputs": [
        {
          "name": "stdout",
          "output_type": "stream",
          "text": [
            "<class 'pandas.core.frame.DataFrame'>\n",
            "RangeIndex: 3630 entries, 0 to 3629\n",
            "Data columns (total 5 columns):\n",
            " #   Column                   Non-Null Count  Dtype \n",
            "---  ------                   --------------  ----- \n",
            " 0   Tuition fees up to date  3630 non-null   int64 \n",
            " 1   Gender                   3630 non-null   int64 \n",
            " 2   Scholarship holder       3630 non-null   int64 \n",
            " 3   Age at enrollment        3630 non-null   int64 \n",
            " 4   Target                   3630 non-null   object\n",
            "dtypes: int64(4), object(1)\n",
            "memory usage: 141.9+ KB\n"
          ]
        }
      ],
      "source": [
        "dropout_clean.info()"
      ]
    },
    {
      "cell_type": "markdown",
      "metadata": {
        "id": "xEmsxFy8cAbN"
      },
      "source": [
        "Our cleaned dataset now only consists of 3 predictors (\"Tuition fees up to date\", \"Gender\", and \"Scholarship holder\") and 1 response variable (\"Target\")."
      ]
    },
    {
      "cell_type": "code",
      "execution_count": 53,
      "metadata": {
        "colab": {
          "base_uri": "https://localhost:8080/"
        },
        "id": "So99WBxkir8-",
        "outputId": "c19a70c3-cc37-44a5-c168-3386f8493215"
      },
      "outputs": [
        {
          "name": "stdout",
          "output_type": "stream",
          "text": [
            "1    3144\n",
            "0     486\n",
            "Name: Tuition fees up to date, dtype: int64\n",
            "\n",
            "0    2661\n",
            "1     969\n",
            "Name: Scholarship holder, dtype: int64\n",
            "\n",
            "0    2381\n",
            "1    1249\n",
            "Name: Gender, dtype: int64\n",
            "\n",
            "Graduate    2209\n",
            "Dropout     1421\n",
            "Name: Target, dtype: int64\n",
            "\n"
          ]
        }
      ],
      "source": [
        "for var in ['Tuition fees up to date', 'Scholarship holder', 'Gender', 'Target']:\n",
        "  print(dropout_clean[var].value_counts(dropna=False))\n",
        "  print()"
      ]
    },
    {
      "cell_type": "markdown",
      "metadata": {
        "id": "xjvAXtXGjpHR"
      },
      "source": [
        "All of the variables do not have any NULL values in them. Our dataset is now clean and ready to be worked with."
      ]
    },
    {
      "cell_type": "markdown",
      "metadata": {
        "id": "ipXPgClwtH-8"
      },
      "source": [
        "# Exploratory Data Analysis\n"
      ]
    },
    {
      "cell_type": "markdown",
      "metadata": {
        "id": "Ne7a2O2XYBUc"
      },
      "source": [
        "## Tuition fees up to date"
      ]
    },
    {
      "cell_type": "code",
      "execution_count": 54,
      "metadata": {
        "colab": {
          "base_uri": "https://localhost:8080/",
          "height": 485
        },
        "id": "2Csam2vDYAhi",
        "outputId": "b24558e4-d62d-4d53-e763-ebc812c5b661"
      },
      "outputs": [
        {
          "name": "stdout",
          "output_type": "stream",
          "text": [
            "Number of unique values: 2\n"
          ]
        },
        {
          "data": {
            "image/png": "[encoded data removed]",
            "text/plain": [
              "<Figure size 640x480 with 3 Axes>"
            ]
          },
          "metadata": {},
          "output_type": "display_data"
        },
        {
          "data": {
            "image/png": "[encoded data removed]",
            "text/plain": [
              "<Figure size 640x480 with 1 Axes>"
            ]
          },
          "metadata": {},
          "output_type": "display_data"
        }
      ],
      "source": [
        "# \"Tuition fees up to date\" in the Dataset\n",
        "print(\"Number of unique values:\", len(dropout_clean[\"Tuition fees up to date\"].unique()))\n",
        "\n",
        "tfutd = dropout_clean.groupby([\"Tuition fees up to date\", 'Target']).size().reset_index().pivot(columns='Target', index=\"Tuition fees up to date\", values=0)\n",
        "tfutd = tfutd.rename(index={0:'No',1:'Yes'})\n",
        "tfutd_total = tfutd.sum(axis=1)\n",
        "tfutd_sorted = tfutd_total.sort_values(ascending=True)\n",
        "tfutd.loc[tfutd.index].plot(kind='bar', stacked=True)\n",
        "\n",
        "plt.xlabel(\"Tuition fees up to date\")\n",
        "plt.ylabel(\"Target\")\n",
        "plt.show()"
      ]
    },
    {
      "cell_type": "code",
      "execution_count": 58,
      "metadata": {
        "colab": {
          "base_uri": "https://localhost:8080/",
          "height": 701
        },
        "id": "62nvUYh8Bfzz",
        "outputId": "0c18ce6b-f82c-46bb-a23f-8d07f081ad42"
      },
      "outputs": [
        {
          "name": "stdout",
          "output_type": "stream",
          "text": [
            "Tuition fees up to date vs Target: \n",
            "\n",
            "Target                   Dropout  Graduate\n",
            "Tuition fees up to date                   \n",
            "0                            457        29\n",
            "1                            964      2180 \n",
            "\n",
            "Chi-Square\t\t: 706.9551387254555\n",
            "P-value\t\t\t: 9.189124239942275e-156\n",
            "Degrees of Freedom\t: 1\n",
            "Expected Frequencies\t: [[ 190.24958678  295.75041322]\n",
            " [1230.75041322 1913.24958678]]\n"
          ]
        },
        {
          "data": {
            "image/png": "[encoded data removed]",
            "text/plain": [
              "<Figure size 640x480 with 2 Axes>"
            ]
          },
          "metadata": {},
          "output_type": "display_data"
        }
      ],
      "source": [
        "print(\"Tuition fees up to date vs Target: \\n\")\n",
        "CrosstabResult = pd.crosstab(index=dropout_clean['Tuition fees up to date'], columns=dropout_clean['Target'])\n",
        "print(CrosstabResult, \"\\n\")\n",
        "    \n",
        "# Create a heatmap to visualize the correlation\n",
        "fig, ax = plt.subplots()\n",
        "heatmap = sb.heatmap(CrosstabResult, annot=True, cmap=\"YlGnBu\", fmt='d', ax=ax)\n",
        "heatmap.set_title('Tuition fees up to date vs Target')\n",
        "    \n",
        "# Perform chi-square test\n",
        "chi2, p, dof, expected = chi2_contingency(CrosstabResult)\n",
        "    \n",
        "# Print the results\n",
        "print(f\"Chi-Square\\t\\t: {chi2}\")\n",
        "print(f\"P-value\\t\\t\\t: {p}\")\n",
        "print(f\"Degrees of Freedom\\t: {dof}\")\n",
        "print(f\"Expected Frequencies\\t: {expected}\")\n",
        "\n",
        "# Show the plot\n",
        "plt.show()"
      ]
    },
    {
      "cell_type": "markdown",
      "metadata": {
        "id": "WIHYVxzYdVgb"
      },
      "source": [
        "From above, we can see that the \"Tuition fees up to date\" variable is a **categorical variable** rather than a numerical variable. This is corroborated by the paper (Realinho et al., 2022) that this dataset is based off of.<br>\n",
        "1 represents \"Yes\"; 0 represents \"No\"<br>\n",
        "<br>\n",
        "Observations:\n",
        "1. \"Tuition fees up to date\" has an **almost extreme** class imbalance (minority class \"No\" accounts for 1.3% of the total).\n",
        "2. **\"No\"** class has **high drop out rate**.\n",
        "3. **More than 2/3** of students in the **\"Yes\"** class managed to graduate.\n",
        "\n",
        "Conclusion:<br>\n",
        "**Tuition fees up to date vs Target**:  The **chi-square** statistic is *710.5252772645691* and the **p-value** is *1.5379337101537844e-156*, indicating strong evidence against the null hypothesis of independence. This means that tuition fees up to date and the target variable are significantly associated."
      ]
    },
    {
      "cell_type": "markdown",
      "metadata": {
        "id": "U1_8yxXt2rR0"
      },
      "source": [
        "## Scholarship holder"
      ]
    },
    {
      "cell_type": "code",
      "execution_count": 55,
      "metadata": {
        "colab": {
          "base_uri": "https://localhost:8080/",
          "height": 122
        },
        "id": "cLN1bmG-4LbK",
        "outputId": "6b84eb72-e5cd-4333-a308-ef0c959cb037"
      },
      "outputs": [
        {
          "name": "stdout",
          "output_type": "stream",
          "text": [
            "Number of unique values: 2\n",
            "0    2661\n",
            "1     969\n",
            "Name: Scholarship holder, dtype: int64\n"
          ]
        },
        {
          "data": {
            "image/png": "[encoded data removed]",
            "text/plain": [
              "<Figure size 640x480 with 1 Axes>"
            ]
          },
          "metadata": {},
          "output_type": "display_data"
        }
      ],
      "source": [
        "print(\"Number of unique values:\", len(dropout_clean[\"Scholarship holder\"].unique()))\n",
        "print(dropout_clean[\"Scholarship holder\"].value_counts())\n",
        "\n",
        "scholar = dropout_clean.groupby([\"Scholarship holder\", 'Target']).size().reset_index().pivot(columns='Target', index=\"Scholarship holder\", values=0)\n",
        "scholar = scholar.rename(index={0:'Non-scholar',1:'Scholar'})\n",
        "scholar_total = scholar.sum(axis=1)\n",
        "scholar_sorted = scholar_total.sort_values(ascending=True)\n",
        "scholar.loc[scholar.index].plot(kind='bar', stacked=True)\n",
        "plt.xlabel('Scholarship holder')\n",
        "plt.ylabel('Target')\n",
        "plt.show()"
      ]
    },
    {
      "cell_type": "code",
      "execution_count": 57,
      "metadata": {
        "colab": {
          "base_uri": "https://localhost:8080/",
          "height": 275
        },
        "id": "VAKh5mHpC7r0",
        "outputId": "f78a9989-1d6c-47a4-eb86-5b25d04a9e93"
      },
      "outputs": [
        {
          "name": "stdout",
          "output_type": "stream",
          "text": [
            "Scholarship holder vs Target: \n",
            "\n",
            "Target              Dropout  Graduate\n",
            "Scholarship holder                   \n",
            "0                      1287      1374\n",
            "1                       134       835 \n",
            "\n",
            "Chi-Square\t\t: 354.219302096918\n",
            "P-value\t\t\t: 5.109075045012705e-79\n",
            "Degrees of Freedom\t: 1\n",
            "Expected Frequencies\t: [[1041.67520661 1619.32479339]\n",
            " [ 379.32479339  589.67520661]]\n"
          ]
        },
        {
          "data": {
            "image/png": "[encoded data removed]",
            "text/plain": [
              "<Figure size 640x480 with 2 Axes>"
            ]
          },
          "metadata": {},
          "output_type": "display_data"
        }
      ],
      "source": [
        "print(\"Scholarship holder vs Target: \\n\")\n",
        "CrosstabResult = pd.crosstab(index=dropout_clean['Scholarship holder'], columns=dropout_clean['Target'])\n",
        "print(CrosstabResult, \"\\n\")\n",
        "    \n",
        "# Create a heatmap to visualize the correlation\n",
        "fig, ax = plt.subplots()\n",
        "heatmap = sb.heatmap(CrosstabResult, annot=True, cmap=\"YlGnBu\", fmt='d', ax=ax)\n",
        "heatmap.set_title('Scholarship holder vs Target')\n",
        "    \n",
        "# Perform chi-square test\n",
        "chi2, p, dof, expected = chi2_contingency(CrosstabResult)\n",
        "    \n",
        "# Print the results\n",
        "print(f\"Chi-Square\\t\\t: {chi2}\")\n",
        "print(f\"P-value\\t\\t\\t: {p}\")\n",
        "print(f\"Degrees of Freedom\\t: {dof}\")\n",
        "print(f\"Expected Frequencies\\t: {expected}\")\n",
        "\n",
        "# Show the plot\n",
        "plt.show()"
      ]
    },
    {
      "cell_type": "markdown",
      "metadata": {
        "id": "qxDIol9N6Ibo"
      },
      "source": [
        "\"Scholarship holder\" is a **categorical variable**.<br>\n",
        "1 represents \"Scholar\"; 0 represents \"Not a scholar\"\n",
        "\n",
        "Observations:\n",
        "1. \"Scholarship holder\" has a **mild** class imbalance (minority class \"Non-scholar\" accounts for 27% of the total).\n",
        "2. Almost half of all non-scholars end up dropping out, as compared to a small minority of scholars.\n",
        "\n",
        "Conclusion: <br>\n",
        "**Scholarship holder vs Target**: \n",
        "The **chi-square** statistic is *354.1419513743124* and the **p-value** is *5.311117839217735e-79* , indicating strong evidence against the null hypothesis of independence. This means that being a scholarship holder and the target variable are significantly associated."
      ]
    },
    {
      "cell_type": "markdown",
      "metadata": {
        "id": "I8FuNWU4jpyg"
      },
      "source": [
        "## Gender"
      ]
    },
    {
      "cell_type": "code",
      "execution_count": 13,
      "metadata": {
        "colab": {
          "base_uri": "https://localhost:8080/",
          "height": 71
        },
        "id": "gitUJ3fLjpel",
        "outputId": "2da10274-5f7c-4b0e-f518-46d056345ede"
      },
      "outputs": [
        {
          "name": "stdout",
          "output_type": "stream",
          "text": [
            "Number of unique values: 2\n"
          ]
        },
        {
          "data": {
            "image/png": "[encoded data removed]",
            "text/plain": [
              "<Figure size 640x480 with 1 Axes>"
            ]
          },
          "metadata": {},
          "output_type": "display_data"
        }
      ],
      "source": [
        "# \"Gender\" in the dataset\n",
        "print(\"Number of unique values:\", len(dropout_clean[\"Gender\"].unique()))\n",
        "\n",
        "gender = dropout_clean.groupby([\"Gender\", 'Target']).size().reset_index().pivot(columns='Target', index=\"Gender\", values=0)\n",
        "gender = gender.rename(index={0:'MALE',1:'FEMALE'})\n",
        "gender_total = gender.sum(axis=1)\n",
        "gender_sorted = gender_total.sort_values(ascending=True)\n",
        "gender.loc[gender.index].plot(kind='bar', stacked=True)\n",
        "plt.xlabel('Gender')\n",
        "plt.ylabel('Target')\n",
        "plt.show()"
      ]
    },
    {
      "cell_type": "code",
      "execution_count": 56,
      "metadata": {
        "colab": {
          "base_uri": "https://localhost:8080/",
          "height": 275
        },
        "id": "kgB5mG6iDgKV",
        "outputId": "3fe453b6-3f6c-4312-a226-6e3045e4e030"
      },
      "outputs": [
        {
          "name": "stdout",
          "output_type": "stream",
          "text": [
            "Gender vs Target: \n",
            "\n",
            "Target  Dropout  Graduate\n",
            "Gender                   \n",
            "0           720      1661\n",
            "1           701       548 \n",
            "\n",
            "Chi-Square\t\t: 229.3515099719868\n",
            "P-value\t\t\t: 8.255973592335283e-52\n",
            "Degrees of Freedom\t: 1\n",
            "Expected Frequencies\t: [[ 932.06639118 1448.93360882]\n",
            " [ 488.93360882  760.06639118]]\n"
          ]
        },
        {
          "data": {
            "image/png": "[encoded data removed]",
            "text/plain": [
              "<Figure size 640x480 with 2 Axes>"
            ]
          },
          "metadata": {},
          "output_type": "display_data"
        }
      ],
      "source": [
        "print(\"Gender vs Target: \\n\")\n",
        "CrosstabResult = pd.crosstab(index=dropout_clean['Gender'], columns=dropout_clean['Target'])\n",
        "print(CrosstabResult, \"\\n\")\n",
        "    \n",
        "# Create a heatmap to visualize the correlation\n",
        "fig, ax = plt.subplots()\n",
        "heatmap = sb.heatmap(CrosstabResult, annot=True, cmap=\"YlGnBu\", fmt='d', ax=ax)\n",
        "heatmap.set_title('Gender vs Target')\n",
        "    \n",
        "# Perform chi-square test\n",
        "chi2, p, dof, expected = chi2_contingency(CrosstabResult)\n",
        "    \n",
        "# Print the results\n",
        "print(f\"Chi-Square\\t\\t: {chi2}\")\n",
        "print(f\"P-value\\t\\t\\t: {p}\")\n",
        "print(f\"Degrees of Freedom\\t: {dof}\")\n",
        "print(f\"Expected Frequencies\\t: {expected}\")\n",
        "\n",
        "# Show the plot\n",
        "plt.show()"
      ]
    },
    {
      "attachments": {},
      "cell_type": "markdown",
      "metadata": {
        "id": "8fZhKuf3nJr_"
      },
      "source": [
        "\"Gender\" is a categorical variable, where 0 represent Female , 1 represent Male.\n",
        "\n",
        "Observations:\n",
        "1. \"Gender\" has **mild** class imbalance (minority class \"Female\" accounts for 34% of the total).\n",
        "2. **Female** has a **higher** dropout rate.\n",
        "3. **Male** has a **lower** dropout rate.\n",
        "\n",
        "Conclusion: <br>\n",
        "**Gender vs Target**: The **chi-square** statistic is *229.29618818581292* and the **p-value** is *8.488544026286193e-52*, indicating strong evidence against the null hypothesis of independence. This means that being a scholarship holder and the target variable are significantly associated."
      ]
    },
    {
      "cell_type": "markdown",
      "metadata": {
        "id": "NN0n1JDv2XMA"
      },
      "source": [
        "## Course\n"
      ]
    },
    {
      "cell_type": "markdown",
      "metadata": {
        "id": "GnMp-boI2cLh"
      },
      "source": [
        "Start by exploring the predictor variable 'Course'\n",
        "\n",
        "Course:\n",
        "\n",
        "\t1\tBIOFUEL PRODUCTION TECHNOLOGIES\n",
        "\t2\tANIMATION & MULTIMEDIA DESIGN\n",
        "\t3\tSOCIAL SERVICE\n",
        "\t4\tAGRONOMY\n",
        "\t5\tCOMMUNICATION DESIGN\n",
        "\t6\tVETERINARY NURSING\n",
        "\t7\tINFORMATICS ENGINEERING\n",
        "\t8\tEQUINICULTURE\n",
        "\t9\tMANAGEMENT\n",
        "\t10\tSOCIAL SERVICE\n",
        "\t11\tTOURISM\n",
        "\t12\tNURSING\n",
        "\t13\tORAL HYGIENE\n",
        "\t14\tADVERTISING & MARKETING MANAGEMENT\n",
        "\t15\tJOURNALISM & COMMUNICATION\n",
        "\t16\tBASIC EDUCATION\n",
        "\t17\tMANAGEMENT (EVENING ATTENDANCE)"
      ]
    },
    {
      "cell_type": "code",
      "execution_count": 15,
      "metadata": {
        "colab": {
          "base_uri": "https://localhost:8080/",
          "height": 824
        },
        "id": "wzN4Pkxv2ali",
        "outputId": "abb568ae-df93-497a-d1f6-1b2a1a7eb3b5"
      },
      "outputs": [
        {
          "name": "stdout",
          "output_type": "stream",
          "text": [
            "Number of different courses : 17\n",
            "1       9\n",
            "13     69\n",
            "7     106\n",
            "8     120\n",
            "16    142\n",
            "4     173\n",
            "2     178\n",
            "5     184\n",
            "3     194\n",
            "11    211\n",
            "17    214\n",
            "14    220\n",
            "6     262\n",
            "9     272\n",
            "15    297\n",
            "10    313\n",
            "12    666\n",
            "Name: Course, dtype: int64\n"
          ]
        }
      ],
      "source": [
        "# Courses in the Dataset\n",
        "print(\"Number of different courses :\", len(dropout_clean_all[\"Course\"].unique()))\n",
        "\n",
        "# Number of students in each course\n",
        "print(dropout_clean_all[\"Course\"].value_counts().sort_values())\n",
        "g=sb.catplot(y = \"Course\", data = dropout_clean_all, kind = \"count\")"
      ]
    },
    {
      "cell_type": "code",
      "execution_count": 16,
      "metadata": {
        "colab": {
          "base_uri": "https://localhost:8080/",
          "height": 458
        },
        "id": "8sCcK-db4Wyy",
        "outputId": "cd5ab5c4-ffd4-453f-e2f8-9353cb7e02ca"
      },
      "outputs": [
        {
          "data": {
            "image/png": "[encoded data removed]",
            "text/plain": [
              "<Figure size 500x500 with 1 Axes>"
            ]
          },
          "metadata": {},
          "output_type": "display_data"
        },
        {
          "data": {
            "image/png": "[encoded data removed]",
            "text/plain": [
              "<Figure size 640x480 with 1 Axes>"
            ]
          },
          "metadata": {},
          "output_type": "display_data"
        }
      ],
      "source": [
        "student_course = dropout_clean_all.groupby(['Course', 'Target']).size().reset_index().pivot(columns='Target', index='Course', values=0)\n",
        "\n",
        "# Rename the index of the DataFrame\n",
        "student_course = student_course.rename(index={1:'Biofuel Production Technologies',\n",
        "                                              2:'Animation and Multimedia Design',\n",
        "                                              3:'Social Service (Evening Attendance)',4:'Agronomy',\n",
        "                                              5:'Communication Design',6:'Veterinary Nursing',\n",
        "                                              7:'Informatics Engineering',8:'Equiniculture',9:'Management',\n",
        "                                              10:'Social Service',11:'Tourism',\n",
        "                                              12:'Nursing',13:'Oral Hygiene',14:'Advertising and Marketing Management',\n",
        "                                              15:'Journalism and Communication',16:'Basic Education',\n",
        "                                              17:'Management'})\n",
        "\n",
        "student_course_total = student_course.sum(axis=1)\n",
        "student_course_sorted = student_course_total.sort_values(ascending=True)\n",
        "student_course.loc[student_course_sorted.index].plot(kind='barh', stacked=True)\n",
        "\n",
        "plt.xlabel('Number of Students')\n",
        "plt.show()"
      ]
    },
    {
      "cell_type": "code",
      "execution_count": 59,
      "metadata": {
        "colab": {
          "base_uri": "https://localhost:8080/",
          "height": 1000
        },
        "id": "W_ixfovDIKSm",
        "outputId": "de1e73d5-e74e-4e5a-b8cf-ebd757f8d9b6"
      },
      "outputs": [
        {
          "name": "stdout",
          "output_type": "stream",
          "text": [
            "Course vs Gender: \n",
            "\n",
            "Gender    0    1\n",
            "Course          \n",
            "1         2    7\n",
            "2        83   95\n",
            "3       157   37\n",
            "4        51  122\n",
            "5       107   77\n",
            "6       211   51\n",
            "7         6  100\n",
            "8        65   55\n",
            "9       155  117\n",
            "10      270   43\n",
            "11      135   76\n",
            "12      541  125\n",
            "13       53   16\n",
            "14      120  100\n",
            "15      195  102\n",
            "16      136    6\n",
            "17       94  120 \n",
            "\n",
            "Chi-Square\t\t: 620.2904702128035\n",
            "P-value\t\t\t: 1.1325113663465392e-121\n",
            "Degrees of Freedom\t: 16\n",
            "Expected Frequencies\t: [[  5.90330579   3.09669421]\n",
            " [116.75426997  61.24573003]\n",
            " [127.24903581  66.75096419]\n",
            " [113.47465565  59.52534435]\n",
            " [120.68980716  63.31019284]\n",
            " [171.85179063  90.14820937]\n",
            " [ 69.52782369  36.47217631]\n",
            " [ 78.7107438   41.2892562 ]\n",
            " [178.41101928  93.58898072]\n",
            " [205.30385675 107.69614325]\n",
            " [138.39972452  72.60027548]\n",
            " [436.8446281  229.1553719 ]\n",
            " [ 45.25867769  23.74132231]\n",
            " [144.3030303   75.6969697 ]\n",
            " [194.80909091 102.19090909]\n",
            " [ 93.14104683  48.85895317]\n",
            " [140.36749311  73.63250689]]\n"
          ]
        },
        {
          "data": {
            "image/png": "[encoded data removed]",
            "text/plain": [
              "<Figure size 640x480 with 2 Axes>"
            ]
          },
          "metadata": {},
          "output_type": "display_data"
        }
      ],
      "source": [
        "print(\"Course vs Gender: \\n\")\n",
        "CrosstabResult = pd.crosstab(index=dropout_clean_all['Course'], columns=dropout_clean_all['Gender'])\n",
        "print(CrosstabResult, \"\\n\")\n",
        "    \n",
        "# Create a heatmap to visualize the correlation\n",
        "fig, ax = plt.subplots()\n",
        "heatmap = sb.heatmap(CrosstabResult, annot=True, cmap=\"YlGnBu\", fmt='d', ax=ax)\n",
        "heatmap.set_title('Course vs Gender')\n",
        "    \n",
        "# Perform chi-square test\n",
        "chi2, p, dof, expected = chi2_contingency(CrosstabResult)\n",
        "    \n",
        "# Print the results\n",
        "print(f\"Chi-Square\\t\\t: {chi2}\")\n",
        "print(f\"P-value\\t\\t\\t: {p}\")\n",
        "print(f\"Degrees of Freedom\\t: {dof}\")\n",
        "print(f\"Expected Frequencies\\t: {expected}\")\n",
        "\n",
        "# Show the plot\n",
        "plt.show()"
      ]
    },
    {
      "attachments": {},
      "cell_type": "markdown",
      "metadata": {
        "id": "dvObTCAHLOOM"
      },
      "source": [
        "From above, we can see that the 'Course' variable is not a numerical variable, it is actually a categorical variable, which each discrete number representing a different course.\n",
        "\n",
        "Observation\n",
        "1.   'Nursing' has the highest graduate rate \n",
        "2.   'Informatics Engineering' and 'Biofuel Production Technology' have the highest dropout rate\n",
        "\n",
        "The chi-square statistic and its associated p-value suggest that there is a significant association between gender and course."
      ]
    },
    {
      "cell_type": "markdown",
      "metadata": {
        "id": "3u0tBpa_JRTN"
      },
      "source": [
        "## Age at enrollment"
      ]
    },
    {
      "cell_type": "code",
      "execution_count": 18,
      "metadata": {
        "colab": {
          "base_uri": "https://localhost:8080/"
        },
        "id": "IWL8J9EZJQoJ",
        "outputId": "637228ca-0d82-4f50-bb9f-e9c3c5043b1d"
      },
      "outputs": [
        {
          "data": {
            "text/plain": [
              "count    3630.000000\n",
              "mean       23.461157\n",
              "std         7.827994\n",
              "min        17.000000\n",
              "25%        19.000000\n",
              "50%        20.000000\n",
              "75%        25.000000\n",
              "max        70.000000\n",
              "Name: Age at enrollment, dtype: float64"
            ]
          },
          "execution_count": 18,
          "metadata": {},
          "output_type": "execute_result"
        }
      ],
      "source": [
        "dropout_clean['Age at enrollment'].describe()"
      ]
    },
    {
      "cell_type": "code",
      "execution_count": 60,
      "metadata": {
        "colab": {
          "base_uri": "https://localhost:8080/",
          "height": 54
        },
        "id": "ua3-6x8izmH2",
        "outputId": "b80d758c-3d11-4982-b684-764d52fc02b4"
      },
      "outputs": [
        {
          "data": {
            "image/png": "[encoded data removed]",
            "text/plain": [
              "<Figure size 1500x600 with 1 Axes>"
            ]
          },
          "metadata": {},
          "output_type": "display_data"
        }
      ],
      "source": [
        "# Make a copy of the data frame\n",
        "graduate_only = dropout_clean.copy()\n",
        "\n",
        "# Filter out students who dropped out\n",
        "graduate_only = graduate_only[graduate_only['Target'] != 'Dropout']\n",
        "\n",
        "# Plot the histogram\n",
        "plt.figure(figsize=(15, 6))\n",
        "plt.hist(graduate_only['Age at enrollment'], bins=15)\n",
        "plt.title('Age Distribution of Graduated Students')\n",
        "plt.xlabel('Age at Enrollment')\n",
        "plt.ylabel('Frequency')\n",
        "plt.show()\n"
      ]
    },
    {
      "cell_type": "code",
      "execution_count": 61,
      "metadata": {
        "colab": {
          "base_uri": "https://localhost:8080/",
          "height": 54
        },
        "id": "c0ZwydrPTaPJ",
        "outputId": "7626a5a1-3bc5-4f1e-d19c-0bd8328b71fd"
      },
      "outputs": [
        {
          "data": {
            "image/png": "[encoded data removed]",
            "text/plain": [
              "<Figure size 1500x600 with 1 Axes>"
            ]
          },
          "metadata": {},
          "output_type": "display_data"
        }
      ],
      "source": [
        "dropout_only = dropout_clean.copy()\n",
        "\n",
        "# Filter out students who dropped out\n",
        "dropout_only = dropout_only[dropout_only['Target'] != 'Graduate']\n",
        "\n",
        "# Plot the histogram\n",
        "plt.figure(figsize=(15, 6))\n",
        "plt.hist(dropout_only['Age at enrollment'], bins=15)\n",
        "plt.title('Age Distribution of Dropout Students')\n",
        "plt.xlabel('Age at Enrollment')\n",
        "plt.ylabel('Frequency')\n",
        "plt.show()"
      ]
    },
    {
      "cell_type": "code",
      "execution_count": 62,
      "metadata": {
        "colab": {
          "base_uri": "https://localhost:8080/",
          "height": 491
        },
        "id": "8t3m9OjBuSL0",
        "outputId": "4891d4b4-9d26-4ea2-8860-578f8f160e59"
      },
      "outputs": [
        {
          "data": {
            "text/html": [
              "<div>\n",
              "<style scoped>\n",
              "    .dataframe tbody tr th:only-of-type {\n",
              "        vertical-align: middle;\n",
              "    }\n",
              "\n",
              "    .dataframe tbody tr th {\n",
              "        vertical-align: top;\n",
              "    }\n",
              "\n",
              "    .dataframe thead th {\n",
              "        text-align: right;\n",
              "    }\n",
              "</style>\n",
              "<table border=\"1\" class=\"dataframe\">\n",
              "  <thead>\n",
              "    <tr style=\"text-align: right;\">\n",
              "      <th></th>\n",
              "      <th>Tuition fees up to date</th>\n",
              "      <th>Gender</th>\n",
              "      <th>Scholarship holder</th>\n",
              "      <th>Age at enrollment</th>\n",
              "      <th>Target</th>\n",
              "      <th>Age Group</th>\n",
              "    </tr>\n",
              "  </thead>\n",
              "  <tbody>\n",
              "    <tr>\n",
              "      <th>0</th>\n",
              "      <td>1</td>\n",
              "      <td>1</td>\n",
              "      <td>0</td>\n",
              "      <td>20</td>\n",
              "      <td>Dropout</td>\n",
              "      <td>Young</td>\n",
              "    </tr>\n",
              "    <tr>\n",
              "      <th>1</th>\n",
              "      <td>0</td>\n",
              "      <td>1</td>\n",
              "      <td>0</td>\n",
              "      <td>19</td>\n",
              "      <td>Graduate</td>\n",
              "      <td>Young</td>\n",
              "    </tr>\n",
              "    <tr>\n",
              "      <th>2</th>\n",
              "      <td>0</td>\n",
              "      <td>1</td>\n",
              "      <td>0</td>\n",
              "      <td>19</td>\n",
              "      <td>Dropout</td>\n",
              "      <td>Young</td>\n",
              "    </tr>\n",
              "    <tr>\n",
              "      <th>3</th>\n",
              "      <td>1</td>\n",
              "      <td>0</td>\n",
              "      <td>0</td>\n",
              "      <td>20</td>\n",
              "      <td>Graduate</td>\n",
              "      <td>Young</td>\n",
              "    </tr>\n",
              "    <tr>\n",
              "      <th>4</th>\n",
              "      <td>1</td>\n",
              "      <td>0</td>\n",
              "      <td>0</td>\n",
              "      <td>45</td>\n",
              "      <td>Graduate</td>\n",
              "      <td>Middle-aged</td>\n",
              "    </tr>\n",
              "    <tr>\n",
              "      <th>5</th>\n",
              "      <td>1</td>\n",
              "      <td>1</td>\n",
              "      <td>0</td>\n",
              "      <td>50</td>\n",
              "      <td>Graduate</td>\n",
              "      <td>Middle-aged</td>\n",
              "    </tr>\n",
              "    <tr>\n",
              "      <th>6</th>\n",
              "      <td>1</td>\n",
              "      <td>0</td>\n",
              "      <td>1</td>\n",
              "      <td>18</td>\n",
              "      <td>Graduate</td>\n",
              "      <td>Young</td>\n",
              "    </tr>\n",
              "    <tr>\n",
              "      <th>7</th>\n",
              "      <td>0</td>\n",
              "      <td>1</td>\n",
              "      <td>0</td>\n",
              "      <td>22</td>\n",
              "      <td>Dropout</td>\n",
              "      <td>Young</td>\n",
              "    </tr>\n",
              "    <tr>\n",
              "      <th>8</th>\n",
              "      <td>1</td>\n",
              "      <td>0</td>\n",
              "      <td>1</td>\n",
              "      <td>21</td>\n",
              "      <td>Graduate</td>\n",
              "      <td>Young</td>\n",
              "    </tr>\n",
              "    <tr>\n",
              "      <th>9</th>\n",
              "      <td>0</td>\n",
              "      <td>0</td>\n",
              "      <td>0</td>\n",
              "      <td>18</td>\n",
              "      <td>Dropout</td>\n",
              "      <td>Young</td>\n",
              "    </tr>\n",
              "  </tbody>\n",
              "</table>\n",
              "</div>"
            ],
            "text/plain": [
              "   Tuition fees up to date  Gender  Scholarship holder  Age at enrollment  \\\n",
              "0                        1       1                   0                 20   \n",
              "1                        0       1                   0                 19   \n",
              "2                        0       1                   0                 19   \n",
              "3                        1       0                   0                 20   \n",
              "4                        1       0                   0                 45   \n",
              "5                        1       1                   0                 50   \n",
              "6                        1       0                   1                 18   \n",
              "7                        0       1                   0                 22   \n",
              "8                        1       0                   1                 21   \n",
              "9                        0       0                   0                 18   \n",
              "\n",
              "     Target    Age Group  \n",
              "0   Dropout        Young  \n",
              "1  Graduate        Young  \n",
              "2   Dropout        Young  \n",
              "3  Graduate        Young  \n",
              "4  Graduate  Middle-aged  \n",
              "5  Graduate  Middle-aged  \n",
              "6  Graduate        Young  \n",
              "7   Dropout        Young  \n",
              "8  Graduate        Young  \n",
              "9   Dropout        Young  "
            ]
          },
          "execution_count": 62,
          "metadata": {},
          "output_type": "execute_result"
        }
      ],
      "source": [
        "droupout_clean_copy=dropout_clean.copy()\n",
        "\n",
        "# Define the categories and ranges\n",
        "bins = [0, 25, 50]\n",
        "labels = ['Young', 'Middle-aged']\n",
        "\n",
        "# Use the cut() method to create a new column with categories\n",
        "droupout_clean_copy['Age Group'] = pd.cut(droupout_clean_copy['Age at enrollment'], bins=bins, labels=labels)\n",
        "\n",
        "droupout_clean_copy.head(10)"
      ]
    },
    {
      "cell_type": "code",
      "execution_count": 63,
      "metadata": {
        "colab": {
          "base_uri": "https://localhost:8080/",
          "height": 71
        },
        "id": "6oxET6CSwsWj",
        "outputId": "d49da181-b3ad-4037-f8bd-96b8240e2048"
      },
      "outputs": [
        {
          "name": "stdout",
          "output_type": "stream",
          "text": [
            "Number of unique values: 3\n"
          ]
        },
        {
          "data": {
            "image/png": "[encoded data removed]",
            "text/plain": [
              "<Figure size 640x480 with 1 Axes>"
            ]
          },
          "metadata": {},
          "output_type": "display_data"
        }
      ],
      "source": [
        "print(\"Number of unique values:\", len(droupout_clean_copy['Age Group'].unique()))\n",
        "\n",
        "tfutd = droupout_clean_copy.groupby(['Age Group', 'Target']).size().reset_index().pivot(columns='Target', index='Age Group', values=0)\n",
        "tfutd_total = tfutd.sum(axis=1)\n",
        "tfutd_sorted = tfutd_total.sort_values(ascending=True)\n",
        "tfutd.loc[tfutd.index].plot(kind='bar', stacked=True)\n",
        "\n",
        "plt.xlabel('Age group')\n",
        "plt.ylabel('Target')\n",
        "plt.show()"
      ]
    },
    {
      "attachments": {},
      "cell_type": "markdown",
      "metadata": {
        "id": "BKt7NPo6TjG1"
      },
      "source": [
        "Generally, most of the university students are **19 to 30 year olds**.<br>\n",
        "Younger students have a higher graduation rate than older students. However, this could be due to the much smaller sample size of older students.\n"
      ]
    },
    {
      "cell_type": "markdown",
      "metadata": {
        "id": "pd80wmtszDi5"
      },
      "source": [
        "## Nationality"
      ]
    },
    {
      "cell_type": "markdown",
      "metadata": {
        "id": "aDGH2pJss6qS"
      },
      "source": [
        "Nacionality: Nationality of student\n",
        "\n",
        "\t1\tPORTUGUESE\n",
        "\t2\tGERMAN\n",
        "\t3\tSPANISH\n",
        "\t4\tITALIAN\n",
        "\t5\tDUTCH\n",
        "\t6\tENGLISH\n",
        "\t7\tLITHUANIAN\n",
        "\t8\tANGOLAN\n",
        "\t9\tCAPE VERDEAN\n",
        "\t10\tGUINEAN\n",
        "\t11\tMOZAMBICAN\n",
        "\t12\tSANTOMEAN\n",
        "\t13\tTURKISH\n",
        "\t14\tBRAZILIAN\n",
        "\t15\tROMANIAN\n",
        "\t16\tMOLDOVA (REPUBLIC OF)\n",
        "\t17\tMEXICAN\n",
        "\t18\tUKRAINIAN\n",
        "\t19\tRUSSIAN\n",
        "\t20\tCUBAN\n",
        "\t21\tCOLOMBIAN\n"
      ]
    },
    {
      "cell_type": "code",
      "execution_count": 64,
      "metadata": {
        "colab": {
          "base_uri": "https://localhost:8080/"
        },
        "id": "EN8Ei50P5KOV",
        "outputId": "79628658-9b76-4d10-f31a-ec94a871f617"
      },
      "outputs": [
        {
          "name": "stdout",
          "output_type": "stream",
          "text": [
            "Nationality before clean: \n",
            "19       1\n",
            "6        1\n",
            "8        1\n",
            "21       1\n",
            "5        1\n",
            "15       1\n",
            "11       1\n",
            "7        1\n",
            "2        2\n",
            "16       2\n",
            "17       2\n",
            "18       3\n",
            "4        3\n",
            "10       5\n",
            "3        8\n",
            "12       9\n",
            "9       12\n",
            "14      32\n",
            "1     3544\n",
            "Name: Nacionality, dtype: int64\n"
          ]
        }
      ],
      "source": [
        "nationality = dropout_clean_all['Nacionality']\n",
        "print(\"Nationality before clean: \")\n",
        "print(dropout_clean_all[\"Nacionality\"].value_counts().sort_values())"
      ]
    },
    {
      "attachments": {},
      "cell_type": "markdown",
      "metadata": {
        "id": "8l7rCkevvSwB"
      },
      "source": [
        "Observations:\n",
        "1. There are more **Portuguese** students than students of any other nationality.\n",
        "2. The next most common nationality of students is **Brazilian**.\n",
        "\n",
        "To better analyse 'Nationality' data, we will combine other countries together into one 'Other' category. We then use Plotly to create a bar chart of nationalities."
      ]
    },
    {
      "cell_type": "code",
      "execution_count": 66,
      "metadata": {
        "colab": {
          "base_uri": "https://localhost:8080/",
          "height": 610
        },
        "id": "EMbb2bCpvi_X",
        "outputId": "e17b475c-e71b-463c-bee7-a97967543693"
      },
      "outputs": [
        {
          "name": "stdout",
          "output_type": "stream",
          "text": [
            "Nationality after clean: \n",
            "1    3544\n",
            "2      86\n",
            "Name: Nacionality, dtype: int64\n"
          ]
        },
        {
          "data": {
            "application/vnd.plotly.v1+json": {
              "config": {
                "plotlyServerURL": "https://plot.ly"
              },
              "data": [
                {
                  "alignmentgroup": "True",
                  "hovertemplate": "index=%{x}<br>Count=%{y}<extra></extra>",
                  "legendgroup": "",
                  "marker": {
                    "color": "#636efa",
                    "pattern": {
                      "shape": ""
                    }
                  },
                  "name": "",
                  "offsetgroup": "",
                  "orientation": "v",
                  "showlegend": false,
                  "textposition": "auto",
                  "type": "bar",
                  "x": [
                    2,
                    1
                  ],
                  "xaxis": "x",
                  "y": [
                    86,
                    3544
                  ],
                  "yaxis": "y"
                }
              ],
              "layout": {
                "barmode": "relative",
                "legend": {
                  "tracegroupgap": 0
                },
                "template": {
                  "data": {
                    "bar": [
                      {
                        "error_x": {
                          "color": "#2a3f5f"
                        },
                        "error_y": {
                          "color": "#2a3f5f"
                        },
                        "marker": {
                          "line": {
                            "color": "#E5ECF6",
                            "width": 0.5
                          },
                          "pattern": {
                            "fillmode": "overlay",
                            "size": 10,
                            "solidity": 0.2
                          }
                        },
                        "type": "bar"
                      }
                    ],
                    "barpolar": [
                      {
                        "marker": {
                          "line": {
                            "color": "#E5ECF6",
                            "width": 0.5
                          },
                          "pattern": {
                            "fillmode": "overlay",
                            "size": 10,
                            "solidity": 0.2
                          }
                        },
                        "type": "barpolar"
                      }
                    ],
                    "carpet": [
                      {
                        "aaxis": {
                          "endlinecolor": "#2a3f5f",
                          "gridcolor": "white",
                          "linecolor": "white",
                          "minorgridcolor": "white",
                          "startlinecolor": "#2a3f5f"
                        },
                        "baxis": {
                          "endlinecolor": "#2a3f5f",
                          "gridcolor": "white",
                          "linecolor": "white",
                          "minorgridcolor": "white",
                          "startlinecolor": "#2a3f5f"
                        },
                        "type": "carpet"
                      }
                    ],
                    "choropleth": [
                      {
                        "colorbar": {
                          "outlinewidth": 0,
                          "ticks": ""
                        },
                        "type": "choropleth"
                      }
                    ],
                    "contour": [
                      {
                        "colorbar": {
                          "outlinewidth": 0,
                          "ticks": ""
                        },
                        "colorscale": [
                          [
                            0,
                            "#0d0887"
                          ],
                          [
                            0.1111111111111111,
                            "#46039f"
                          ],
                          [
                            0.2222222222222222,
                            "#7201a8"
                          ],
                          [
                            0.3333333333333333,
                            "#9c179e"
                          ],
                          [
                            0.4444444444444444,
                            "#bd3786"
                          ],
                          [
                            0.5555555555555556,
                            "#d8576b"
                          ],
                          [
                            0.6666666666666666,
                            "#ed7953"
                          ],
                          [
                            0.7777777777777778,
                            "#fb9f3a"
                          ],
                          [
                            0.8888888888888888,
                            "#fdca26"
                          ],
                          [
                            1,
                            "#f0f921"
                          ]
                        ],
                        "type": "contour"
                      }
                    ],
                    "contourcarpet": [
                      {
                        "colorbar": {
                          "outlinewidth": 0,
                          "ticks": ""
                        },
                        "type": "contourcarpet"
                      }
                    ],
                    "heatmap": [
                      {
                        "colorbar": {
                          "outlinewidth": 0,
                          "ticks": ""
                        },
                        "colorscale": [
                          [
                            0,
                            "#0d0887"
                          ],
                          [
                            0.1111111111111111,
                            "#46039f"
                          ],
                          [
                            0.2222222222222222,
                            "#7201a8"
                          ],
                          [
                            0.3333333333333333,
                            "#9c179e"
                          ],
                          [
                            0.4444444444444444,
                            "#bd3786"
                          ],
                          [
                            0.5555555555555556,
                            "#d8576b"
                          ],
                          [
                            0.6666666666666666,
                            "#ed7953"
                          ],
                          [
                            0.7777777777777778,
                            "#fb9f3a"
                          ],
                          [
                            0.8888888888888888,
                            "#fdca26"
                          ],
                          [
                            1,
                            "#f0f921"
                          ]
                        ],
                        "type": "heatmap"
                      }
                    ],
                    "heatmapgl": [
                      {
                        "colorbar": {
                          "outlinewidth": 0,
                          "ticks": ""
                        },
                        "colorscale": [
                          [
                            0,
                            "#0d0887"
                          ],
                          [
                            0.1111111111111111,
                            "#46039f"
                          ],
                          [
                            0.2222222222222222,
                            "#7201a8"
                          ],
                          [
                            0.3333333333333333,
                            "#9c179e"
                          ],
                          [
                            0.4444444444444444,
                            "#bd3786"
                          ],
                          [
                            0.5555555555555556,
                            "#d8576b"
                          ],
                          [
                            0.6666666666666666,
                            "#ed7953"
                          ],
                          [
                            0.7777777777777778,
                            "#fb9f3a"
                          ],
                          [
                            0.8888888888888888,
                            "#fdca26"
                          ],
                          [
                            1,
                            "#f0f921"
                          ]
                        ],
                        "type": "heatmapgl"
                      }
                    ],
                    "histogram": [
                      {
                        "marker": {
                          "pattern": {
                            "fillmode": "overlay",
                            "size": 10,
                            "solidity": 0.2
                          }
                        },
                        "type": "histogram"
                      }
                    ],
                    "histogram2d": [
                      {
                        "colorbar": {
                          "outlinewidth": 0,
                          "ticks": ""
                        },
                        "colorscale": [
                          [
                            0,
                            "#0d0887"
                          ],
                          [
                            0.1111111111111111,
                            "#46039f"
                          ],
                          [
                            0.2222222222222222,
                            "#7201a8"
                          ],
                          [
                            0.3333333333333333,
                            "#9c179e"
                          ],
                          [
                            0.4444444444444444,
                            "#bd3786"
                          ],
                          [
                            0.5555555555555556,
                            "#d8576b"
                          ],
                          [
                            0.6666666666666666,
                            "#ed7953"
                          ],
                          [
                            0.7777777777777778,
                            "#fb9f3a"
                          ],
                          [
                            0.8888888888888888,
                            "#fdca26"
                          ],
                          [
                            1,
                            "#f0f921"
                          ]
                        ],
                        "type": "histogram2d"
                      }
                    ],
                    "histogram2dcontour": [
                      {
                        "colorbar": {
                          "outlinewidth": 0,
                          "ticks": ""
                        },
                        "colorscale": [
                          [
                            0,
                            "#0d0887"
                          ],
                          [
                            0.1111111111111111,
                            "#46039f"
                          ],
                          [
                            0.2222222222222222,
                            "#7201a8"
                          ],
                          [
                            0.3333333333333333,
                            "#9c179e"
                          ],
                          [
                            0.4444444444444444,
                            "#bd3786"
                          ],
                          [
                            0.5555555555555556,
                            "#d8576b"
                          ],
                          [
                            0.6666666666666666,
                            "#ed7953"
                          ],
                          [
                            0.7777777777777778,
                            "#fb9f3a"
                          ],
                          [
                            0.8888888888888888,
                            "#fdca26"
                          ],
                          [
                            1,
                            "#f0f921"
                          ]
                        ],
                        "type": "histogram2dcontour"
                      }
                    ],
                    "mesh3d": [
                      {
                        "colorbar": {
                          "outlinewidth": 0,
                          "ticks": ""
                        },
                        "type": "mesh3d"
                      }
                    ],
                    "parcoords": [
                      {
                        "line": {
                          "colorbar": {
                            "outlinewidth": 0,
                            "ticks": ""
                          }
                        },
                        "type": "parcoords"
                      }
                    ],
                    "pie": [
                      {
                        "automargin": true,
                        "type": "pie"
                      }
                    ],
                    "scatter": [
                      {
                        "fillpattern": {
                          "fillmode": "overlay",
                          "size": 10,
                          "solidity": 0.2
                        },
                        "type": "scatter"
                      }
                    ],
                    "scatter3d": [
                      {
                        "line": {
                          "colorbar": {
                            "outlinewidth": 0,
                            "ticks": ""
                          }
                        },
                        "marker": {
                          "colorbar": {
                            "outlinewidth": 0,
                            "ticks": ""
                          }
                        },
                        "type": "scatter3d"
                      }
                    ],
                    "scattercarpet": [
                      {
                        "marker": {
                          "colorbar": {
                            "outlinewidth": 0,
                            "ticks": ""
                          }
                        },
                        "type": "scattercarpet"
                      }
                    ],
                    "scattergeo": [
                      {
                        "marker": {
                          "colorbar": {
                            "outlinewidth": 0,
                            "ticks": ""
                          }
                        },
                        "type": "scattergeo"
                      }
                    ],
                    "scattergl": [
                      {
                        "marker": {
                          "colorbar": {
                            "outlinewidth": 0,
                            "ticks": ""
                          }
                        },
                        "type": "scattergl"
                      }
                    ],
                    "scattermapbox": [
                      {
                        "marker": {
                          "colorbar": {
                            "outlinewidth": 0,
                            "ticks": ""
                          }
                        },
                        "type": "scattermapbox"
                      }
                    ],
                    "scatterpolar": [
                      {
                        "marker": {
                          "colorbar": {
                            "outlinewidth": 0,
                            "ticks": ""
                          }
                        },
                        "type": "scatterpolar"
                      }
                    ],
                    "scatterpolargl": [
                      {
                        "marker": {
                          "colorbar": {
                            "outlinewidth": 0,
                            "ticks": ""
                          }
                        },
                        "type": "scatterpolargl"
                      }
                    ],
                    "scatterternary": [
                      {
                        "marker": {
                          "colorbar": {
                            "outlinewidth": 0,
                            "ticks": ""
                          }
                        },
                        "type": "scatterternary"
                      }
                    ],
                    "surface": [
                      {
                        "colorbar": {
                          "outlinewidth": 0,
                          "ticks": ""
                        },
                        "colorscale": [
                          [
                            0,
                            "#0d0887"
                          ],
                          [
                            0.1111111111111111,
                            "#46039f"
                          ],
                          [
                            0.2222222222222222,
                            "#7201a8"
                          ],
                          [
                            0.3333333333333333,
                            "#9c179e"
                          ],
                          [
                            0.4444444444444444,
                            "#bd3786"
                          ],
                          [
                            0.5555555555555556,
                            "#d8576b"
                          ],
                          [
                            0.6666666666666666,
                            "#ed7953"
                          ],
                          [
                            0.7777777777777778,
                            "#fb9f3a"
                          ],
                          [
                            0.8888888888888888,
                            "#fdca26"
                          ],
                          [
                            1,
                            "#f0f921"
                          ]
                        ],
                        "type": "surface"
                      }
                    ],
                    "table": [
                      {
                        "cells": {
                          "fill": {
                            "color": "#EBF0F8"
                          },
                          "line": {
                            "color": "white"
                          }
                        },
                        "header": {
                          "fill": {
                            "color": "#C8D4E3"
                          },
                          "line": {
                            "color": "white"
                          }
                        },
                        "type": "table"
                      }
                    ]
                  },
                  "layout": {
                    "annotationdefaults": {
                      "arrowcolor": "#2a3f5f",
                      "arrowhead": 0,
                      "arrowwidth": 1
                    },
                    "autotypenumbers": "strict",
                    "coloraxis": {
                      "colorbar": {
                        "outlinewidth": 0,
                        "ticks": ""
                      }
                    },
                    "colorscale": {
                      "diverging": [
                        [
                          0,
                          "#8e0152"
                        ],
                        [
                          0.1,
                          "#c51b7d"
                        ],
                        [
                          0.2,
                          "#de77ae"
                        ],
                        [
                          0.3,
                          "#f1b6da"
                        ],
                        [
                          0.4,
                          "#fde0ef"
                        ],
                        [
                          0.5,
                          "#f7f7f7"
                        ],
                        [
                          0.6,
                          "#e6f5d0"
                        ],
                        [
                          0.7,
                          "#b8e186"
                        ],
                        [
                          0.8,
                          "#7fbc41"
                        ],
                        [
                          0.9,
                          "#4d9221"
                        ],
                        [
                          1,
                          "#276419"
                        ]
                      ],
                      "sequential": [
                        [
                          0,
                          "#0d0887"
                        ],
                        [
                          0.1111111111111111,
                          "#46039f"
                        ],
                        [
                          0.2222222222222222,
                          "#7201a8"
                        ],
                        [
                          0.3333333333333333,
                          "#9c179e"
                        ],
                        [
                          0.4444444444444444,
                          "#bd3786"
                        ],
                        [
                          0.5555555555555556,
                          "#d8576b"
                        ],
                        [
                          0.6666666666666666,
                          "#ed7953"
                        ],
                        [
                          0.7777777777777778,
                          "#fb9f3a"
                        ],
                        [
                          0.8888888888888888,
                          "#fdca26"
                        ],
                        [
                          1,
                          "#f0f921"
                        ]
                      ],
                      "sequentialminus": [
                        [
                          0,
                          "#0d0887"
                        ],
                        [
                          0.1111111111111111,
                          "#46039f"
                        ],
                        [
                          0.2222222222222222,
                          "#7201a8"
                        ],
                        [
                          0.3333333333333333,
                          "#9c179e"
                        ],
                        [
                          0.4444444444444444,
                          "#bd3786"
                        ],
                        [
                          0.5555555555555556,
                          "#d8576b"
                        ],
                        [
                          0.6666666666666666,
                          "#ed7953"
                        ],
                        [
                          0.7777777777777778,
                          "#fb9f3a"
                        ],
                        [
                          0.8888888888888888,
                          "#fdca26"
                        ],
                        [
                          1,
                          "#f0f921"
                        ]
                      ]
                    },
                    "colorway": [
                      "#636efa",
                      "#EF553B",
                      "#00cc96",
                      "#ab63fa",
                      "#FFA15A",
                      "#19d3f3",
                      "#FF6692",
                      "#B6E880",
                      "#FF97FF",
                      "#FECB52"
                    ],
                    "font": {
                      "color": "#2a3f5f"
                    },
                    "geo": {
                      "bgcolor": "white",
                      "lakecolor": "white",
                      "landcolor": "#E5ECF6",
                      "showlakes": true,
                      "showland": true,
                      "subunitcolor": "white"
                    },
                    "hoverlabel": {
                      "align": "left"
                    },
                    "hovermode": "closest",
                    "mapbox": {
                      "style": "light"
                    },
                    "paper_bgcolor": "white",
                    "plot_bgcolor": "#E5ECF6",
                    "polar": {
                      "angularaxis": {
                        "gridcolor": "white",
                        "linecolor": "white",
                        "ticks": ""
                      },
                      "bgcolor": "#E5ECF6",
                      "radialaxis": {
                        "gridcolor": "white",
                        "linecolor": "white",
                        "ticks": ""
                      }
                    },
                    "scene": {
                      "xaxis": {
                        "backgroundcolor": "#E5ECF6",
                        "gridcolor": "white",
                        "gridwidth": 2,
                        "linecolor": "white",
                        "showbackground": true,
                        "ticks": "",
                        "zerolinecolor": "white"
                      },
                      "yaxis": {
                        "backgroundcolor": "#E5ECF6",
                        "gridcolor": "white",
                        "gridwidth": 2,
                        "linecolor": "white",
                        "showbackground": true,
                        "ticks": "",
                        "zerolinecolor": "white"
                      },
                      "zaxis": {
                        "backgroundcolor": "#E5ECF6",
                        "gridcolor": "white",
                        "gridwidth": 2,
                        "linecolor": "white",
                        "showbackground": true,
                        "ticks": "",
                        "zerolinecolor": "white"
                      }
                    },
                    "shapedefaults": {
                      "line": {
                        "color": "#2a3f5f"
                      }
                    },
                    "ternary": {
                      "aaxis": {
                        "gridcolor": "white",
                        "linecolor": "white",
                        "ticks": ""
                      },
                      "baxis": {
                        "gridcolor": "white",
                        "linecolor": "white",
                        "ticks": ""
                      },
                      "bgcolor": "#E5ECF6",
                      "caxis": {
                        "gridcolor": "white",
                        "linecolor": "white",
                        "ticks": ""
                      }
                    },
                    "title": {
                      "x": 0.05
                    },
                    "xaxis": {
                      "automargin": true,
                      "gridcolor": "white",
                      "linecolor": "white",
                      "ticks": "",
                      "title": {
                        "standoff": 15
                      },
                      "zerolinecolor": "white",
                      "zerolinewidth": 2
                    },
                    "yaxis": {
                      "automargin": true,
                      "gridcolor": "white",
                      "linecolor": "white",
                      "ticks": "",
                      "title": {
                        "standoff": 15
                      },
                      "zerolinecolor": "white",
                      "zerolinewidth": 2
                    }
                  }
                },
                "title": {
                  "text": "Bar Chart of Nationality Counts (Cleaned)"
                },
                "xaxis": {
                  "anchor": "y",
                  "domain": [
                    0,
                    1
                  ],
                  "title": {
                    "text": "index"
                  }
                },
                "yaxis": {
                  "anchor": "x",
                  "domain": [
                    0,
                    1
                  ],
                  "title": {
                    "text": "Count"
                  }
                }
              }
            }
          },
          "metadata": {},
          "output_type": "display_data"
        }
      ],
      "source": [
        "print(\"Nationality after clean: \")\n",
        "nationality_clean = nationality.copy()\n",
        "nationality_clean.loc[nationality_clean != 1] = 2\n",
        "print(nationality_clean.value_counts())\n",
        "\n",
        "nationality_counts = nationality_clean.value_counts().sort_values()\n",
        "\n",
        "fig = px.bar(nationality_counts, x=nationality_counts.index, y=nationality_counts.values, \n",
        "             labels={'x': 'Nationality', 'y': 'Count'}, \n",
        "             title='Bar Chart of Nationality Counts (Cleaned)')\n",
        "\n",
        "fig.show()"
      ]
    },
    {
      "attachments": {},
      "cell_type": "markdown",
      "metadata": {},
      "source": [
        "'1' refers to Portuguese students; '2' refers to students of Other nationalities."
      ]
    },
    {
      "cell_type": "markdown",
      "metadata": {
        "id": "7zp-deQf2Frj"
      },
      "source": [
        "# Using RandomForest to solve our problem statement"
      ]
    },
    {
      "cell_type": "markdown",
      "metadata": {
        "id": "zTGwQbvxwcJ4"
      },
      "source": [
        "## Setup"
      ]
    },
    {
      "cell_type": "code",
      "execution_count": 25,
      "metadata": {
        "id": "8ISsHd3J2L2z"
      },
      "outputs": [],
      "source": [
        "# Importing required libraries for RandomForest\n",
        "from sklearn.ensemble import RandomForestClassifier\n",
        "from sklearn.model_selection import train_test_split\n",
        "from sklearn.metrics import confusion_matrix\n",
        "from sklearn.metrics import precision_score\n",
        "from sklearn.metrics import f1_score\n",
        "\n",
        "# Importing required library for hyperparameter tuning\n",
        "from sklearn.model_selection import GridSearchCV\n",
        "\n",
        "# Importing required library for data visualisation\n",
        "from sklearn.tree import plot_tree"
      ]
    },
    {
      "cell_type": "code",
      "execution_count": 26,
      "metadata": {
        "colab": {
          "base_uri": "https://localhost:8080/"
        },
        "id": "hMY4yeNGNnMx",
        "outputId": "1d6928b6-0130-4d34-fe9f-0a029ba1b3d5"
      },
      "outputs": [
        {
          "name": "stdout",
          "output_type": "stream",
          "text": [
            "Sample Sizes \tTRAIN Set\n",
            "Predictor (x)\t: (2904, 4)\n",
            "Response (y)\t: (2904,)\n",
            "\n",
            "Sample Sizes \tTEST Set\n",
            "Predictor (x)\t: (726, 4)\n",
            "Response (y)\t: (726,)\n"
          ]
        }
      ],
      "source": [
        "# Putting predictors to X\n",
        "X = dropout_clean.drop('Target', axis=1)\n",
        "# Putting \"Target\" to y\n",
        "y = dropout_clean['Target']\n",
        "\n",
        "# Splitting data into TRAIN & TEST sets\n",
        "X_train, X_test, y_train, y_test = train_test_split(X, y, train_size=0.8, random_state=0, stratify=dropout_clean['Tuition fees up to date'])\n",
        "\n",
        "# Checking sample sizes\n",
        "print(\"Sample Sizes \\tTRAIN Set\")\n",
        "print(\"Predictor (x)\\t:\", X_train.shape)\n",
        "print(\"Response (y)\\t:\", y_train.shape)\n",
        "print()\n",
        "print(\"Sample Sizes \\tTEST Set\")\n",
        "print(\"Predictor (x)\\t:\", X_test.shape)\n",
        "print(\"Response (y)\\t:\", y_test.shape)"
      ]
    },
    {
      "cell_type": "markdown",
      "metadata": {
        "id": "vIKF4CkHlUEV"
      },
      "source": [
        "From earlier EDA, we found that \"Tuition fees up to date\" has an **almost extreme** class imbalance. This class imbalance needs to be corrected.<br>\n",
        "By including the \"stratify\" parameter, we can specify that our training & test datasets should contain examples of \"Yes\" & \"No\" for \"Tuition fees up to date\" in the same proportions as the original dataset."
      ]
    },
    {
      "cell_type": "markdown",
      "metadata": {
        "id": "R3mHPWL5hO1n"
      },
      "source": [
        "## Hyperparameter tuning"
      ]
    },
    {
      "cell_type": "code",
      "execution_count": 31,
      "metadata": {
        "colab": {
          "base_uri": "https://localhost:8080/",
          "height": 149
        },
        "id": "FQtLWhAeSuMz",
        "outputId": "cdfc68ee-aeb7-458e-993e-e24df49f0b57"
      },
      "outputs": [
        {
          "name": "stdout",
          "output_type": "stream",
          "text": [
            "CPU times: user 4min 5s, sys: 2.39 s, total: 4min 7s\n",
            "Wall time: 4min 7s\n"
          ]
        },
        {
          "data": {
            "text/plain": [
              "GridSearchCV(cv=5, estimator=RandomForestClassifier(random_state=0),\n",
              "             param_grid={'max_depth': array([ 2,  3,  4,  5,  6,  7,  8,  9, 10]),\n",
              "                         'n_estimators': array([ 100,  200,  300,  400,  500,  600,  700,  800,  900, 1000])},\n",
              "             scoring='accuracy')"
            ]
          },
          "execution_count": 31,
          "metadata": {},
          "output_type": "execute_result"
        }
      ],
      "source": [
        "%%time\n",
        "\n",
        "# Defining which parameters to search for the best RandomForest model\n",
        "params = {'n_estimators': np.arange(100, 1001, 100),\n",
        "          'max_depth': np.arange(2, 11)}\n",
        "\n",
        "# Creating grid\n",
        "hp_grid = GridSearchCV(RandomForestClassifier(random_state=0), params, cv=5, scoring='accuracy')\n",
        "\n",
        "# Fitting the data\n",
        "hp_grid.fit(X_train, y_train)"
      ]
    },
    {
      "cell_type": "markdown",
      "metadata": {
        "id": "9C_E5sYTy3NM"
      },
      "source": [
        "We are tuning the hyperparameters based on the F-score of the model built on them.<br>\n",
        "We chose to use F-score as our grading metric for 2 reasons:\n",
        "1. F-score takes into account both the Precision and the Recall of the model in equal weights, allowing us to optimise for both\n",
        "2. Since F-score measures model performance by calculating the harmonic mean of precision and recall for the minority positive class, that makes it highly suitable for an imbalanced dataset such as the one we are using."
      ]
    },
    {
      "cell_type": "code",
      "execution_count": 45,
      "metadata": {
        "colab": {
          "base_uri": "https://localhost:8080/"
        },
        "id": "BdyGMtGfqChh",
        "outputId": "00823acd-bf6e-4a10-8eca-50317c224ed1"
      },
      "outputs": [
        {
          "name": "stdout",
          "output_type": "stream",
          "text": [
            "RandomForestClassifier(max_depth=6, n_estimators=200, random_state=0)\n",
            "F-score on TRAIN dataset: 0.7537830138287138\n"
          ]
        }
      ],
      "source": [
        "# To determine best set of hyperparameters\n",
        "print(hp_grid.best_estimator_)\n",
        "\n",
        "# To display the f1-score of the best model after Cross Validation (CV)\n",
        "print(\"F-score on TRAIN dataset:\", np.abs(hp_grid.best_score_))"
      ]
    },
    {
      "cell_type": "markdown",
      "metadata": {
        "id": "YKD_aQvgyeDw"
      },
      "source": [
        "From above, the best set of hyperparameters to use for our RandomTree model is with a **maximum depth of 6** and **200 estimators**.<br>\n",
        "The F-score of this model on our training dataset is **0.75378**, indicating a moderately high precision."
      ]
    },
    {
      "cell_type": "markdown",
      "metadata": {
        "id": "mN4ui0MxwMAl"
      },
      "source": [
        "## Building best model & analysing its results"
      ]
    },
    {
      "cell_type": "code",
      "execution_count": 46,
      "metadata": {
        "id": "AP4C-TNuwKz7"
      },
      "outputs": [],
      "source": [
        "# Creating RandomForest object based on the best set of hyperparameters\n",
        "RF_train = RandomForestClassifier(max_depth=6, n_estimators=200, random_state=0)\n",
        "RF_test = RandomForestClassifier(max_depth=6, n_estimators=200, random_state=0)\n",
        "\n",
        "# Fitting RF to our TRAIN dataset\n",
        "RF_train.fit(X_train, y_train)\n",
        "\n",
        "# Testing RF model on TRAIN dataset\n",
        "y_pred_train = RF_train.predict(X_train)"
      ]
    },
    {
      "cell_type": "code",
      "execution_count": 47,
      "metadata": {
        "colab": {
          "base_uri": "https://localhost:8080/",
          "height": 468
        },
        "id": "Id5jA4TeqgrJ",
        "outputId": "f374c8a1-c094-4d36-e4f7-bf5ca562eeaa"
      },
      "outputs": [
        {
          "name": "stdout",
          "output_type": "stream",
          "text": [
            "Confusion matrix on TRAIN dataset\n"
          ]
        },
        {
          "data": {
            "text/plain": [
              "<AxesSubplot:>"
            ]
          },
          "execution_count": 47,
          "metadata": {},
          "output_type": "execute_result"
        }
      ],
      "source": [
        "# Confusion matrix on TRAIN dataset\n",
        "print(\"Confusion matrix on TRAIN dataset\")\n",
        "cm_train = confusion_matrix(y_train, y_pred_train)\n",
        "sb.heatmap(cm_train, annot=True, fmt=\".0f\")"
      ]
    },
    {
      "cell_type": "code",
      "execution_count": 48,
      "metadata": {
        "colab": {
          "base_uri": "https://localhost:8080/"
        },
        "id": "R1pTyIiNrUqi",
        "outputId": "4ea52831-cc84-4171-d04f-fba0777487e6"
      },
      "outputs": [
        {
          "name": "stdout",
          "output_type": "stream",
          "text": [
            "Precision of model: 0.7658890105481291\n",
            "F-score on TRAIN dataset: 0.7620184335219301\n"
          ]
        }
      ],
      "source": [
        "# Checking Precision & F-score of RF model on TRAIN dataset\n",
        "precision_train = precision_score(y_train, y_pred_train, average='weighted')\n",
        "fscore_train = f1_score(y_train, y_pred_train, average='weighted')\n",
        "print(\"Precision of model:\", precision_train)\n",
        "print(\"F-score on TRAIN dataset:\", fscore_train)"
      ]
    },
    {
      "cell_type": "markdown",
      "metadata": {
        "id": "pMCrv2Ver8a2"
      },
      "source": [
        "The F-score of our model on the train dataset is **0.76202**, indicating a moderately high precision."
      ]
    },
    {
      "cell_type": "code",
      "execution_count": 49,
      "metadata": {
        "id": "s8JmYf35qQ1a"
      },
      "outputs": [],
      "source": [
        "# Fitting RF to our TEST dataset\n",
        "RF_test.fit(X_test, y_test)\n",
        "\n",
        "# Testing RF model on TEST dataset\n",
        "y_pred_test = RF_test.predict(X_test)"
      ]
    },
    {
      "cell_type": "code",
      "execution_count": 50,
      "metadata": {
        "colab": {
          "base_uri": "https://localhost:8080/",
          "height": 468
        },
        "id": "V6rMacHuoFv8",
        "outputId": "c23e1e67-60d9-4859-ad8e-bb2fabccd3e3"
      },
      "outputs": [
        {
          "name": "stdout",
          "output_type": "stream",
          "text": [
            "Confusion matrix on TEST dataset\n"
          ]
        },
        {
          "data": {
            "text/plain": [
              "<AxesSubplot:>"
            ]
          },
          "execution_count": 50,
          "metadata": {},
          "output_type": "execute_result"
        }
      ],
      "source": [
        "# Confusion matrix on TEST dataset\n",
        "print(\"Confusion matrix on TEST dataset\")\n",
        "cm_test = confusion_matrix(y_test, y_pred_test)\n",
        "sb.heatmap(cm_test, annot=True, fmt='.0f')"
      ]
    },
    {
      "cell_type": "code",
      "execution_count": 51,
      "metadata": {
        "colab": {
          "base_uri": "https://localhost:8080/"
        },
        "id": "nF4SMm8ZoEGK",
        "outputId": "dcaeb0a2-c12b-4a9c-9c4a-3054bcb3dbbc"
      },
      "outputs": [
        {
          "name": "stdout",
          "output_type": "stream",
          "text": [
            "Precision of model: 0.7799154390046451\n",
            "F-score on TEST dataset: 0.7778265001010228\n"
          ]
        }
      ],
      "source": [
        "# Checking Precision & F-score of RF model\n",
        "precision_test = precision_score(y_test, y_pred_test, average='weighted')\n",
        "fscore_test = f1_score(y_test, y_pred_test, average='weighted')\n",
        "print(\"Precision of model:\", precision_test)\n",
        "print(\"F-score on TEST dataset:\", fscore_test)"
      ]
    },
    {
      "cell_type": "markdown",
      "metadata": {
        "id": "D3LGNvrG9aVu"
      },
      "source": [
        "The F-score of our model on the test dataset is **0.77783**, indicating a moderately high precision.<br>\n",
        "This means that our model has been well-fitted on the train dataset and is able to give us reliable predictions."
      ]
    },
    {
      "cell_type": "code",
      "execution_count": 52,
      "metadata": {
        "colab": {
          "base_uri": "https://localhost:8080/",
          "height": 173
        },
        "id": "VkI1vROfR5I9",
        "outputId": "320d8f8e-397e-49c2-b4fd-b375a43534f0"
      },
      "outputs": [
        {
          "data": {
            "text/html": [
              "<div>\n",
              "<style scoped>\n",
              "    .dataframe tbody tr th:only-of-type {\n",
              "        vertical-align: middle;\n",
              "    }\n",
              "\n",
              "    .dataframe tbody tr th {\n",
              "        vertical-align: top;\n",
              "    }\n",
              "\n",
              "    .dataframe thead th {\n",
              "        text-align: right;\n",
              "    }\n",
              "</style>\n",
              "<table border=\"1\" class=\"dataframe\">\n",
              "  <thead>\n",
              "    <tr style=\"text-align: right;\">\n",
              "      <th></th>\n",
              "      <th>Variable</th>\n",
              "      <th>Importance</th>\n",
              "    </tr>\n",
              "  </thead>\n",
              "  <tbody>\n",
              "    <tr>\n",
              "      <th>0</th>\n",
              "      <td>Tuition fees up to date</td>\n",
              "      <td>0.496045</td>\n",
              "    </tr>\n",
              "    <tr>\n",
              "      <th>3</th>\n",
              "      <td>Age at enrollment</td>\n",
              "      <td>0.278767</td>\n",
              "    </tr>\n",
              "    <tr>\n",
              "      <th>2</th>\n",
              "      <td>Scholarship holder</td>\n",
              "      <td>0.160218</td>\n",
              "    </tr>\n",
              "    <tr>\n",
              "      <th>1</th>\n",
              "      <td>Gender</td>\n",
              "      <td>0.064969</td>\n",
              "    </tr>\n",
              "  </tbody>\n",
              "</table>\n",
              "</div>"
            ],
            "text/plain": [
              "                  Variable  Importance\n",
              "0  Tuition fees up to date    0.496045\n",
              "3        Age at enrollment    0.278767\n",
              "2       Scholarship holder    0.160218\n",
              "1                   Gender    0.064969"
            ]
          },
          "execution_count": 52,
          "metadata": {},
          "output_type": "execute_result"
        }
      ],
      "source": [
        "# To show the relative importance of each variable\n",
        "importanceDF = pd.DataFrame({\"Variable\": X_train.columns, \"Importance\": RF_train.feature_importances_})\n",
        "importanceDF.sort_values(by=\"Importance\", ascending=False)"
      ]
    },
    {
      "attachments": {},
      "cell_type": "markdown",
      "metadata": {
        "id": "2Q-t5Jn_SjVw"
      },
      "source": [
        "Based on our model, 'Tuition fees up to date' is the most important variable in predicting whether a student will graduate or dropout.<br>\n",
        "From earlier, although all the variables are strongly associated with Target, we can see from here that when the variables are put together, they contribute to the prediction of whether a student drops out or graduates with varying significance."
      ]
    },
    {
      "cell_type": "markdown",
      "metadata": {
        "id": "9ldsuw1BjUlU"
      },
      "source": [
        "# Analysis of RandomForest Model"
      ]
    },
    {
      "attachments": {},
      "cell_type": "markdown",
      "metadata": {},
      "source": [
        "## Benefits of RandomForest"
      ]
    },
    {
      "attachments": {},
      "cell_type": "markdown",
      "metadata": {},
      "source": [
        "### Ability to identify the most important features\n",
        "With a RF model, we are able to interpret the model as a whole in terms of which variables have the most predictive power and which have the least.<br>\n",
        "\n",
        "### Little risk of overfitting\n",
        "With enough trees, the RF classifier will not overfit our model on the TRAIN dataset."
      ]
    },
    {
      "attachments": {},
      "cell_type": "markdown",
      "metadata": {},
      "source": [
        "## Drawbacks of RandomForest"
      ]
    },
    {
      "attachments": {},
      "cell_type": "markdown",
      "metadata": {},
      "source": [
        "### Time-consuming\n",
        "For a more accurate RF model, we need to include more trees in the Forest. However, having more trees will slow down our model.\n",
        "\n",
        "### Only overall interpretation of the model available\n",
        "We are unable to easily sieve out the specfic combinations of values for the variables that will result in a student dropping out or graduating. This is termed as *local interpretation* and it is difficult to extract this information from a Random Forest model due to the multiple independent Decision Trees that have been considered when finding the final prediction."
      ]
    },
    {
      "cell_type": "markdown",
      "metadata": {
        "id": "au8a5aMil9Vu"
      },
      "source": [
        "# References"
      ]
    },
    {
      "cell_type": "markdown",
      "metadata": {
        "id": "Xn_JZrCTLNpa"
      },
      "source": [
        "1. Realinho, V., Machado, J., Baptista, L., &amp; Martins, M. V. (2022). Predicting student dropout and academic success. Data, 7(11). https://doi.org/10.3390/data7110146\n",
        "\n",
        "2. Hashmi, F. (2021) How to measure the correlation between two categorical variables in Python, Thinking Neuron. Available at: https://thinkingneuron.com/how-to-measure-the-correlation-between-two-categorical-variables-in-python/ (Accessed: April 16, 2023). "
      ]
    }
  ],
  "metadata": {
    "colab": {
      "collapsed_sections": [
        "U1_8yxXt2rR0",
        "I8FuNWU4jpyg",
        "3u0tBpa_JRTN",
        "au8a5aMil9Vu"
      ],
      "provenance": [],
      "toc_visible": true
    },
    "kernelspec": {
      "display_name": "Python 3",
      "name": "python3"
    },
    "language_info": {
      "codemirror_mode": {
        "name": "ipython",
        "version": 3
      },
      "file_extension": ".py",
      "mimetype": "text/x-python",
      "name": "python",
      "nbconvert_exporter": "python",
      "pygments_lexer": "ipython3",
      "version": "3.9.13"
    }
  },
  "nbformat": 4,
  "nbformat_minor": 0
}
